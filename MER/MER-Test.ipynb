{
 "cells": [
  {
   "cell_type": "code",
   "execution_count": 1,
   "id": "f58430e4",
   "metadata": {},
   "outputs": [],
   "source": [
    "import numpy as np \n",
    "import pandas as pd\n",
    "from keras.models import load_model\n",
    "from sklearn.preprocessing import LabelEncoder\n",
    "from keras.wrappers.scikit_learn import KerasClassifier\n",
    "\n",
    "#Library to use spotify for getting song features\n",
    "import spotipy\n",
    "import time\n",
    "from IPython.core.display import clear_output\n",
    "from spotipy import SpotifyClientCredentials, util"
   ]
  },
  {
   "cell_type": "code",
   "execution_count": 2,
   "id": "1cb22cc1",
   "metadata": {},
   "outputs": [],
   "source": [
    "def build_model():\n",
    "    model = load_model('../Models/MER.h5')\n",
    "    return model\n",
    "\n",
    "classifier = KerasClassifier(build_fn=build_model,epochs=300,batch_size=200,verbose=0)\n",
    "classifier.model = build_model()\n",
    "classifier.classes_ = np.array([0, 1, 2, 3])"
   ]
  },
  {
   "cell_type": "code",
   "execution_count": 3,
   "id": "6b4946f0",
   "metadata": {},
   "outputs": [
    {
     "data": {
      "text/html": [
       "<div>\n",
       "<style scoped>\n",
       "    .dataframe tbody tr th:only-of-type {\n",
       "        vertical-align: middle;\n",
       "    }\n",
       "\n",
       "    .dataframe tbody tr th {\n",
       "        vertical-align: top;\n",
       "    }\n",
       "\n",
       "    .dataframe thead th {\n",
       "        text-align: right;\n",
       "    }\n",
       "</style>\n",
       "<table border=\"1\" class=\"dataframe\">\n",
       "  <thead>\n",
       "    <tr style=\"text-align: right;\">\n",
       "      <th></th>\n",
       "      <th>mood</th>\n",
       "      <th>encode</th>\n",
       "    </tr>\n",
       "  </thead>\n",
       "  <tbody>\n",
       "    <tr>\n",
       "      <th>2</th>\n",
       "      <td>Calm</td>\n",
       "      <td>0</td>\n",
       "    </tr>\n",
       "    <tr>\n",
       "      <th>0</th>\n",
       "      <td>Energetic</td>\n",
       "      <td>1</td>\n",
       "    </tr>\n",
       "    <tr>\n",
       "      <th>1</th>\n",
       "      <td>Happy</td>\n",
       "      <td>2</td>\n",
       "    </tr>\n",
       "    <tr>\n",
       "      <th>5</th>\n",
       "      <td>Sad</td>\n",
       "      <td>3</td>\n",
       "    </tr>\n",
       "  </tbody>\n",
       "</table>\n",
       "</div>"
      ],
      "text/plain": [
       "        mood  encode\n",
       "2       Calm       0\n",
       "0  Energetic       1\n",
       "1      Happy       2\n",
       "5        Sad       3"
      ]
     },
     "execution_count": 3,
     "metadata": {},
     "output_type": "execute_result"
    }
   ],
   "source": [
    "df = pd.read_csv('../Datasets/Spotify Data.csv')\n",
    "Y = df['mood']\n",
    "\n",
    "encoder = LabelEncoder()\n",
    "encoder.fit(Y)\n",
    "encoded_y = encoder.transform(Y)\n",
    "\n",
    "target = pd.DataFrame({'mood':df['mood'].tolist(),'encode':encoded_y}).drop_duplicates().sort_values(['encode'],ascending=True)\n",
    "target"
   ]
  },
  {
   "cell_type": "code",
   "execution_count": 4,
   "id": "3ca39215",
   "metadata": {},
   "outputs": [],
   "source": [
    "client_id='5bb8ade946c2454f8262474d0040f9c2'\n",
    "client_secret='1cb00aa57c334fa2aca7a54abf987d6a'\n",
    "\n",
    "#Credentials to access the Spotify Music Data\n",
    "manager = SpotifyClientCredentials(client_id,client_secret)\n",
    "sp = spotipy.Spotify(client_credentials_manager=manager)\n",
    "\n",
    "def get_songs_features(ids):\n",
    "\n",
    "    meta = sp.track(ids)\n",
    "    features = sp.audio_features(ids)\n",
    "\n",
    "    # meta\n",
    "    name = meta['name']\n",
    "    album = meta['album']['name']\n",
    "    artist = meta['album']['artists'][0]['name']\n",
    "    release_date = meta['album']['release_date']\n",
    "    length = meta['duration_ms']\n",
    "    popularity = meta['popularity']\n",
    "    ids =  meta['id']\n",
    "\n",
    "    # features\n",
    "    acousticness = features[0]['acousticness']\n",
    "    danceability = features[0]['danceability']\n",
    "    energy = features[0]['energy']\n",
    "    instrumentalness = features[0]['instrumentalness']\n",
    "    liveness = features[0]['liveness']\n",
    "    valence = features[0]['valence']\n",
    "    loudness = features[0]['loudness']\n",
    "    speechiness = features[0]['speechiness']\n",
    "    tempo = features[0]['tempo']\n",
    "    key = features[0]['key']\n",
    "    time_signature = features[0]['time_signature']\n",
    "\n",
    "    track = [name, album, artist, ids, release_date, popularity, length, danceability, acousticness,\n",
    "            energy, instrumentalness, liveness, valence, loudness, speechiness, tempo, key, time_signature]\n",
    "    columns = ['name','album','artist','id','release_date','popularity','length','danceability','acousticness','energy','instrumentalness',\n",
    "                'liveness','valence','loudness','speechiness','tempo','key','time_signature']\n",
    "    return track,columns\n",
    "\n",
    "def get_track_id(track, artist, album):\n",
    "    \n",
    "    search_result = sp.search(q='artist:' + artist + ' track:' + track + ' album:' + album, type='track')\n",
    "    track_id = search_result['tracks']['items'][0]['id']\n",
    "    return track_id"
   ]
  },
  {
   "cell_type": "code",
   "execution_count": 5,
   "id": "aae71da9",
   "metadata": {},
   "outputs": [],
   "source": [
    "def predict_mood(id_song):\n",
    "\n",
    "    #Obtain the features of the song\n",
    "    preds = get_songs_features(id_song)\n",
    "\n",
    "    #Pre-process the features to input the Model\n",
    "    preds_features = np.array(preds[0][6:-2]).reshape(-1,1).T\n",
    "\n",
    "    #Predict the features of the song\n",
    "    results = classifier.predict(preds_features)\n",
    "\n",
    "    mood = np.array(target['mood'][target['encode']==int(results)])\n",
    "    name_song = preds[0][0]\n",
    "    artist = preds[0][2]\n",
    "\n",
    "    return print(\"{0} by {1} is a {2} song\".format(name_song,artist,mood[0].upper()))\n",
    "    #print(f\"{name_song} by {artist} is a {mood[0].upper()} song\")"
   ]
  },
  {
   "cell_type": "code",
   "execution_count": 7,
   "id": "b9547574",
   "metadata": {},
   "outputs": [
    {
     "name": "stdout",
     "output_type": "stream",
     "text": [
      "Shape of You by Ed Sheeran is a ENERGETIC song\n"
     ]
    }
   ],
   "source": [
    "track = 'Shape Of You'\n",
    "artist = 'Ed Sheeran'\n",
    "album = '÷'\n",
    "\n",
    "track_id = get_track_id(track, artist, album)\n",
    "predict_mood(track_id)"
   ]
  }
 ],
 "metadata": {
  "kernelspec": {
   "display_name": "Python 3 (ipykernel)",
   "language": "python",
   "name": "python3"
  },
  "language_info": {
   "codemirror_mode": {
    "name": "ipython",
    "version": 3
   },
   "file_extension": ".py",
   "mimetype": "text/x-python",
   "name": "python",
   "nbconvert_exporter": "python",
   "pygments_lexer": "ipython3",
   "version": "3.8.12"
  }
 },
 "nbformat": 4,
 "nbformat_minor": 5
}
