{
 "cells": [
  {
   "cell_type": "code",
   "execution_count": 1,
   "id": "11dc3fe3",
   "metadata": {},
   "outputs": [],
   "source": [
    "import numpy as np \n",
    "import pandas as pd\n",
    "from keras.models import load_model\n",
    "from sklearn.preprocessing import MinMaxScaler\n",
    "\n",
    "#Library to use spotify for getting song features\n",
    "import spotipy\n",
    "from spotipy import SpotifyClientCredentials, util\n",
    "\n",
    "import os"
   ]
  },
  {
   "cell_type": "code",
   "execution_count": 2,
   "id": "36613167",
   "metadata": {},
   "outputs": [],
   "source": [
    "model = load_model('Models/MMD.h5')\n",
    "labels = ['Happy', 'Sad']"
   ]
  },
  {
   "cell_type": "code",
   "execution_count": 3,
   "id": "0b56b709",
   "metadata": {},
   "outputs": [],
   "source": [
    "client_id='5bb8ade946c2454f8262474d0040f9c2'\n",
    "client_secret='1cb00aa57c334fa2aca7a54abf987d6a'\n",
    "\n",
    "#Credentials to access the Spotify Music Data\n",
    "manager = SpotifyClientCredentials(client_id,client_secret)\n",
    "sp = spotipy.Spotify(client_credentials_manager=manager)\n",
    "\n",
    "def get_songs_features(ids):\n",
    "\n",
    "    meta = sp.track(ids)\n",
    "    features = sp.audio_features(ids)\n",
    "\n",
    "    # meta\n",
    "    name = meta['name']\n",
    "    album = meta['album']['name']\n",
    "    artist = meta['album']['artists'][0]['name']\n",
    "    release_date = meta['album']['release_date']\n",
    "    length = meta['duration_ms']\n",
    "    popularity = meta['popularity']\n",
    "    ids =  meta['id']\n",
    "\n",
    "    # features\n",
    "    danceability = features[0]['danceability']\n",
    "    energy = features[0]['energy']\n",
    "    loudness = features[0]['loudness']\n",
    "    valence = features[0]['valence']\n",
    "    acousticness = features[0]['acousticness']\n",
    "    instrumentalness = features[0]['instrumentalness']\n",
    "    tempo = features[0]['tempo']\n",
    "\n",
    "    track = [name, album, artist, ids, release_date, popularity, length, danceability, energy, \n",
    "             loudness, valence, acousticness, instrumentalness, tempo]\n",
    "    columns = ['name','album','artist','id','release_date','popularity','length','danceability','energy',\n",
    "               'loudness','valence','acousticness','instrumentalness','tempo']\n",
    "    return track,columns\n",
    "\n",
    "def get_track_id(track, artist, album):\n",
    "    \n",
    "    search_result = sp.search(q='artist:' + artist + ' track:' + track + ' album:' + album, type='track')\n",
    "    track_id = search_result['tracks']['items'][0]['id']\n",
    "    return track_id"
   ]
  },
  {
   "cell_type": "code",
   "execution_count": 4,
   "id": "24fb639c",
   "metadata": {},
   "outputs": [],
   "source": [
    "def predict_mood(id_song):\n",
    "\n",
    "    #Obtain the features of the song\n",
    "    preds = get_songs_features(id_song)\n",
    "\n",
    "    #Pre-process the features to input the Model\n",
    "    preds_features = np.array(preds[0][7:]).reshape(-1,1).T\n",
    "\n",
    "    #Predict the features of the song\n",
    "    results = model.predict(preds_features)\n",
    "\n",
    "    mood = labels[np.argmax(results)]\n",
    "    name_song = preds[0][0]\n",
    "    artist = preds[0][2]\n",
    "\n",
    "    return mood.upper()"
   ]
  },
  {
   "cell_type": "code",
   "execution_count": 5,
   "id": "791cd3b8",
   "metadata": {},
   "outputs": [
    {
     "name": "stdout",
     "output_type": "stream",
     "text": [
      "Playlists Successfully Created\n"
     ]
    }
   ],
   "source": [
    "# Creating Playlist\n",
    "\n",
    "# Note: All the songs should be stored in the format 'track name_artist name_album name'\n",
    "\n",
    "songs = os.listdir('Playlist/All Songs/')\n",
    "for song in songs:\n",
    "    song_details = song.split('.')[0].split('_')\n",
    "    track_id = get_track_id(song_details[0], song_details[1], song_details[2])\n",
    "    mood = predict_mood(track_id)\n",
    "    if mood == \"HAPPY\":\n",
    "        old = os.path.join('Playlist/All Songs/', song)\n",
    "        new = os.path.join('Playlist/Happy Songs/', song)\n",
    "        os.replace(old, new)\n",
    "    else:\n",
    "        old = os.path.join('Playlist/All Songs/', song)\n",
    "        new = os.path.join('Playlist/Sad Songs/', song)\n",
    "        os.replace(old, new)\n",
    "\n",
    "print(\"Playlists Successfully Created\")"
   ]
  }
 ],
 "metadata": {
  "kernelspec": {
   "display_name": "Python 3 (ipykernel)",
   "language": "python",
   "name": "python3"
  },
  "language_info": {
   "codemirror_mode": {
    "name": "ipython",
    "version": 3
   },
   "file_extension": ".py",
   "mimetype": "text/x-python",
   "name": "python",
   "nbconvert_exporter": "python",
   "pygments_lexer": "ipython3",
   "version": "3.8.12"
  }
 },
 "nbformat": 4,
 "nbformat_minor": 5
}
