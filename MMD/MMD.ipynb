{
 "cells": [
  {
   "cell_type": "code",
   "execution_count": 1,
   "metadata": {
    "id": "7st_TjpTKbV2"
   },
   "outputs": [],
   "source": [
    "import pandas as pd\n",
    "import numpy as np\n",
    "import matplotlib.pyplot as plt\n",
    "from sklearn.preprocessing import LabelEncoder,MinMaxScaler\n",
    "from sklearn.model_selection import train_test_split\n",
    "import seaborn as sns\n",
    "from imblearn.over_sampling import RandomOverSampler\n",
    "from sklearn.metrics import precision_recall_fscore_support"
   ]
  },
  {
   "cell_type": "code",
   "execution_count": 2,
   "metadata": {
    "id": "5e_lj2KlKifN"
   },
   "outputs": [],
   "source": [
    "df = pd.read_csv('../Datasets/Spotify Data Labeled.csv',index_col=0)\n",
    "df.dropna(inplace=True)"
   ]
  },
  {
   "cell_type": "code",
   "execution_count": 3,
   "metadata": {
    "colab": {
     "base_uri": "https://localhost:8080/",
     "height": 204
    },
    "id": "RmKD5mUdKkEJ",
    "outputId": "c05db501-3c84-40c0-9cdf-888a977bebec"
   },
   "outputs": [
    {
     "data": {
      "text/html": [
       "<div>\n",
       "<style scoped>\n",
       "    .dataframe tbody tr th:only-of-type {\n",
       "        vertical-align: middle;\n",
       "    }\n",
       "\n",
       "    .dataframe tbody tr th {\n",
       "        vertical-align: top;\n",
       "    }\n",
       "\n",
       "    .dataframe thead th {\n",
       "        text-align: right;\n",
       "    }\n",
       "</style>\n",
       "<table border=\"1\" class=\"dataframe\">\n",
       "  <thead>\n",
       "    <tr style=\"text-align: right;\">\n",
       "      <th></th>\n",
       "      <th>danceability</th>\n",
       "      <th>energy</th>\n",
       "      <th>loudness</th>\n",
       "      <th>valence</th>\n",
       "      <th>acousticness</th>\n",
       "      <th>instrumentalness</th>\n",
       "      <th>tempo</th>\n",
       "      <th>kmeans</th>\n",
       "    </tr>\n",
       "  </thead>\n",
       "  <tbody>\n",
       "    <tr>\n",
       "      <th>0</th>\n",
       "      <td>0.466</td>\n",
       "      <td>0.3890</td>\n",
       "      <td>-12.825</td>\n",
       "      <td>0.749</td>\n",
       "      <td>0.631</td>\n",
       "      <td>0.843000</td>\n",
       "      <td>92.631</td>\n",
       "      <td>1</td>\n",
       "    </tr>\n",
       "    <tr>\n",
       "      <th>1</th>\n",
       "      <td>0.554</td>\n",
       "      <td>0.1860</td>\n",
       "      <td>-15.846</td>\n",
       "      <td>0.200</td>\n",
       "      <td>0.909</td>\n",
       "      <td>0.001440</td>\n",
       "      <td>81.181</td>\n",
       "      <td>1</td>\n",
       "    </tr>\n",
       "    <tr>\n",
       "      <th>2</th>\n",
       "      <td>0.498</td>\n",
       "      <td>0.5820</td>\n",
       "      <td>-8.961</td>\n",
       "      <td>0.866</td>\n",
       "      <td>0.412</td>\n",
       "      <td>0.000000</td>\n",
       "      <td>119.809</td>\n",
       "      <td>0</td>\n",
       "    </tr>\n",
       "    <tr>\n",
       "      <th>3</th>\n",
       "      <td>0.772</td>\n",
       "      <td>0.2970</td>\n",
       "      <td>-14.679</td>\n",
       "      <td>0.822</td>\n",
       "      <td>0.854</td>\n",
       "      <td>0.000008</td>\n",
       "      <td>119.987</td>\n",
       "      <td>1</td>\n",
       "    </tr>\n",
       "    <tr>\n",
       "      <th>4</th>\n",
       "      <td>0.570</td>\n",
       "      <td>0.0636</td>\n",
       "      <td>-18.548</td>\n",
       "      <td>0.282</td>\n",
       "      <td>0.936</td>\n",
       "      <td>0.000000</td>\n",
       "      <td>101.517</td>\n",
       "      <td>1</td>\n",
       "    </tr>\n",
       "  </tbody>\n",
       "</table>\n",
       "</div>"
      ],
      "text/plain": [
       "   danceability  energy  loudness  valence  acousticness  instrumentalness  \\\n",
       "0         0.466  0.3890   -12.825    0.749         0.631          0.843000   \n",
       "1         0.554  0.1860   -15.846    0.200         0.909          0.001440   \n",
       "2         0.498  0.5820    -8.961    0.866         0.412          0.000000   \n",
       "3         0.772  0.2970   -14.679    0.822         0.854          0.000008   \n",
       "4         0.570  0.0636   -18.548    0.282         0.936          0.000000   \n",
       "\n",
       "     tempo  kmeans  \n",
       "0   92.631       1  \n",
       "1   81.181       1  \n",
       "2  119.809       0  \n",
       "3  119.987       1  \n",
       "4  101.517       1  "
      ]
     },
     "execution_count": 3,
     "metadata": {},
     "output_type": "execute_result"
    }
   ],
   "source": [
    "df.head()"
   ]
  },
  {
   "cell_type": "code",
   "execution_count": 4,
   "metadata": {
    "id": "yWpZGtuCKlCP"
   },
   "outputs": [],
   "source": [
    "X = df.drop(['kmeans'],axis=1)\n",
    "Y = df['kmeans']\n",
    "#Encode the labels (targets)\n",
    "encoder = LabelEncoder()\n",
    "encoder.fit(Y)\n",
    "encoded_y = encoder.transform(Y)\n",
    "#Split train and test data with a test size of 20%\n",
    "X_train,X_test,Y_train,Y_test = train_test_split(X,Y,test_size=0.2,random_state=15)"
   ]
  },
  {
   "cell_type": "code",
   "execution_count": 5,
   "metadata": {
    "colab": {
     "base_uri": "https://localhost:8080/"
    },
    "id": "mpe5mNOalt4z",
    "outputId": "b36517ed-7568-4194-bf1b-a568e18ac802"
   },
   "outputs": [],
   "source": [
    "# sampling the dataset for equal number of labels for 'happy' and 'sad'\n",
    "oversample = RandomOverSampler()\n",
    "X_train, Y_train = oversample.fit_resample(X_train, Y_train)"
   ]
  },
  {
   "cell_type": "code",
   "execution_count": 6,
   "metadata": {
    "id": "-rYrXGE8KmK9"
   },
   "outputs": [
    {
     "name": "stdout",
     "output_type": "stream",
     "text": [
      "WARNING:tensorflow:From C:\\Users\\aksha\\anaconda3\\envs\\mood_radio\\lib\\site-packages\\tensorflow\\python\\compat\\v2_compat.py:96: disable_resource_variables (from tensorflow.python.ops.variable_scope) is deprecated and will be removed in a future version.\n",
      "Instructions for updating:\n",
      "non-resource variables are not supported in the long term\n"
     ]
    }
   ],
   "source": [
    "#Libraries to create the Multi-class Neural Network\n",
    "from keras.models import Sequential\n",
    "from keras.layers import Dense\n",
    "from keras.wrappers.scikit_learn import KerasClassifier\n",
    "from keras.utils import np_utils\n",
    "#Import tensorflow and disable the v2 behavior and eager mode\n",
    "import tensorflow as tf\n",
    "tf.compat.v1.disable_eager_execution()\n",
    "tf.compat.v1.disable_v2_behavior()"
   ]
  },
  {
   "cell_type": "code",
   "execution_count": 7,
   "metadata": {
    "colab": {
     "base_uri": "https://localhost:8080/"
    },
    "id": "8d8Gor-SKnyf",
    "outputId": "9262b127-755b-4d49-97e5-c7c599d71d91"
   },
   "outputs": [
    {
     "name": "stdout",
     "output_type": "stream",
     "text": [
      "Model: \"sequential\"\n",
      "_________________________________________________________________\n",
      "Layer (type)                 Output Shape              Param #   \n",
      "=================================================================\n",
      "dense (Dense)                (None, 16)                128       \n",
      "_________________________________________________________________\n",
      "dense_1 (Dense)              (None, 8)                 136       \n",
      "_________________________________________________________________\n",
      "dense_2 (Dense)              (None, 2)                 18        \n",
      "=================================================================\n",
      "Total params: 282\n",
      "Trainable params: 282\n",
      "Non-trainable params: 0\n",
      "_________________________________________________________________\n"
     ]
    }
   ],
   "source": [
    "#Create the model\n",
    "model = Sequential()\n",
    "model.add(Dense(16,input_dim=7,activation='relu'))\n",
    "model.add(Dense(8,activation='relu'))\n",
    "model.add(Dense(2,activation='sigmoid'))\n",
    "#Compile the model using logistic loss function and adam     optimizer, accuracy correspond to the metric displayed\n",
    "model.compile(loss='sparse_categorical_crossentropy',optimizer='adam',metrics=['accuracy'])\n",
    "model.summary()"
   ]
  },
  {
   "cell_type": "code",
   "execution_count": 8,
   "metadata": {
    "colab": {
     "base_uri": "https://localhost:8080/"
    },
    "id": "Nnk_Cp0ZKpMB",
    "outputId": "8407c760-a69f-4037-84f6-a04dbdcd370f",
    "scrolled": true
   },
   "outputs": [
    {
     "name": "stdout",
     "output_type": "stream",
     "text": [
      "Train on 6416 samples\n",
      "Epoch 1/30\n",
      "6416/6416 [==============================] - 0s 11us/sample - loss: 0.9328 - acc: 0.5192\n",
      "Epoch 2/30\n",
      "6416/6416 [==============================] - 0s 10us/sample - loss: 0.6585 - acc: 0.6291\n",
      "Epoch 3/30\n",
      "6416/6416 [==============================] - 0s 10us/sample - loss: 0.6421 - acc: 0.6925\n",
      "Epoch 4/30\n",
      "6416/6416 [==============================] - 0s 10us/sample - loss: 0.5967 - acc: 0.6993\n",
      "Epoch 5/30\n",
      "6416/6416 [==============================] - 0s 10us/sample - loss: 0.5228 - acc: 0.7435\n",
      "Epoch 6/30\n",
      "6416/6416 [==============================] - 0s 10us/sample - loss: 0.4479 - acc: 0.7936\n",
      "Epoch 7/30\n",
      "6416/6416 [==============================] - 0s 10us/sample - loss: 0.3807 - acc: 0.8449\n",
      "Epoch 8/30\n",
      "6416/6416 [==============================] - 0s 10us/sample - loss: 0.3322 - acc: 0.8683\n",
      "Epoch 9/30\n",
      "6416/6416 [==============================] - 0s 10us/sample - loss: 0.2752 - acc: 0.9057\n",
      "Epoch 10/30\n",
      "6416/6416 [==============================] - 0s 10us/sample - loss: 0.2360 - acc: 0.9246\n",
      "Epoch 11/30\n",
      "6416/6416 [==============================] - 0s 10us/sample - loss: 0.2115 - acc: 0.9359\n",
      "Epoch 12/30\n",
      "6416/6416 [==============================] - 0s 11us/sample - loss: 0.1868 - acc: 0.9373\n",
      "Epoch 13/30\n",
      "6416/6416 [==============================] - 0s 10us/sample - loss: 0.1653 - acc: 0.9461\n",
      "Epoch 14/30\n",
      "6416/6416 [==============================] - 0s 11us/sample - loss: 0.1545 - acc: 0.9478\n",
      "Epoch 15/30\n",
      "6416/6416 [==============================] - 0s 13us/sample - loss: 0.1382 - acc: 0.9550\n",
      "Epoch 16/30\n",
      "6416/6416 [==============================] - 0s 12us/sample - loss: 0.1329 - acc: 0.9564\n",
      "Epoch 17/30\n",
      "6416/6416 [==============================] - 0s 10us/sample - loss: 0.1231 - acc: 0.9573\n",
      "Epoch 18/30\n",
      "6416/6416 [==============================] - 0s 10us/sample - loss: 0.1196 - acc: 0.9584\n",
      "Epoch 19/30\n",
      "6416/6416 [==============================] - 0s 10us/sample - loss: 0.1108 - acc: 0.9631\n",
      "Epoch 20/30\n",
      "6416/6416 [==============================] - 0s 10us/sample - loss: 0.1068 - acc: 0.9637\n",
      "Epoch 21/30\n",
      "6416/6416 [==============================] - 0s 10us/sample - loss: 0.1057 - acc: 0.96200s - loss: 0.1027 - acc: 0.964\n",
      "Epoch 22/30\n",
      "6416/6416 [==============================] - 0s 10us/sample - loss: 0.1035 - acc: 0.9584\n",
      "Epoch 23/30\n",
      "6416/6416 [==============================] - 0s 10us/sample - loss: 0.0952 - acc: 0.9671\n",
      "Epoch 24/30\n",
      "6416/6416 [==============================] - 0s 10us/sample - loss: 0.0938 - acc: 0.9676\n",
      "Epoch 25/30\n",
      "6416/6416 [==============================] - 0s 10us/sample - loss: 0.0894 - acc: 0.9693\n",
      "Epoch 26/30\n",
      "6416/6416 [==============================] - 0s 10us/sample - loss: 0.0856 - acc: 0.9721\n",
      "Epoch 27/30\n",
      "6416/6416 [==============================] - 0s 10us/sample - loss: 0.0831 - acc: 0.9721\n",
      "Epoch 28/30\n",
      "6416/6416 [==============================] - 0s 10us/sample - loss: 0.0855 - acc: 0.96740s - loss: 0.0870 - acc: 0.966\n",
      "Epoch 29/30\n",
      "6416/6416 [==============================] - 0s 10us/sample - loss: 0.0809 - acc: 0.9729\n",
      "Epoch 30/30\n",
      "6416/6416 [==============================] - 0s 10us/sample - loss: 0.0866 - acc: 0.9663\n"
     ]
    },
    {
     "data": {
      "text/plain": [
       "<tensorflow.python.keras.callbacks.History at 0x2603af80ca0>"
      ]
     },
     "execution_count": 8,
     "metadata": {},
     "output_type": "execute_result"
    }
   ],
   "source": [
    "#Train the model with the train data\n",
    "model.fit(X_train,Y_train,verbose=True, epochs=30, batch_size=64)"
   ]
  },
  {
   "cell_type": "code",
   "execution_count": 9,
   "metadata": {
    "colab": {
     "base_uri": "https://localhost:8080/"
    },
    "id": "h4tITjBfLs9g",
    "outputId": "64339d35-0a62-493b-f2f0-05027882748b"
   },
   "outputs": [
    {
     "name": "stdout",
     "output_type": "stream",
     "text": [
      "WARNING:tensorflow:From C:\\Users\\aksha\\anaconda3\\envs\\mood_radio\\lib\\site-packages\\tensorflow\\python\\keras\\engine\\training_v1.py:2070: Model.state_updates (from tensorflow.python.keras.engine.training) is deprecated and will be removed in a future version.\n",
      "Instructions for updating:\n",
      "This property should not be used in TensorFlow 2.0, as updates are applied automatically.\n"
     ]
    }
   ],
   "source": [
    "y_pred = model.predict(X_test)\n",
    "y_pred = [np.argmax(item) for item in y_pred]"
   ]
  },
  {
   "cell_type": "code",
   "execution_count": 10,
   "metadata": {
    "colab": {
     "base_uri": "https://localhost:8080/",
     "height": 533
    },
    "id": "IqTVTL7eKrDh",
    "outputId": "acaff654-85fa-49d9-e3a4-551c4c03c5f3"
   },
   "outputs": [
    {
     "data": {
      "image/png": "[encoded data removed]",
      "text/plain": [
       "<Figure size 432x288 with 2 Axes>"
      ]
     },
     "metadata": {
      "needs_background": "light"
     },
     "output_type": "display_data"
    }
   ],
   "source": [
    "from sklearn.metrics import confusion_matrix\n",
    "cm = confusion_matrix(Y_test,y_pred)\n",
    "#plot the confusion matrix\n",
    "ax = plt.subplot()\n",
    "sns.heatmap(cm,annot=True,ax=ax)\n",
    "labels = Y.tolist()\n",
    "ax.set_xlabel('Predicted labels')\n",
    "ax.set_ylabel('True labels')\n",
    "ax.set_title('Confusion Matrix')\n",
    "ax.xaxis.set_ticklabels(['sad','happy'])\n",
    "ax.yaxis.set_ticklabels(['sad','happy'])\n",
    "plt.show()"
   ]
  },
  {
   "cell_type": "code",
   "execution_count": 11,
   "metadata": {
    "colab": {
     "base_uri": "https://localhost:8080/"
    },
    "id": "TDwFk6teMJN5",
    "outputId": "88e565e2-d174-43b4-82cc-cb1b16e72486",
    "scrolled": true
   },
   "outputs": [
    {
     "name": "stdout",
     "output_type": "stream",
     "text": [
      "Precision of 'Sad' and 'Happy: [0.9695122  0.99615385]\n",
      "Recall of 'Sad' and 'Happy': [0.99874372 0.91197183]\n",
      "\n"
     ]
    }
   ],
   "source": [
    "scores = precision_recall_fscore_support(Y_test,y_pred)\n",
    "print(\"Precision of 'Sad' and 'Happy: {}\\nRecall of 'Sad' and 'Happy': {}\\n\".format(scores[0], scores[1]))"
   ]
  },
  {
   "cell_type": "code",
   "execution_count": 12,
   "metadata": {},
   "outputs": [],
   "source": [
    "model.save('../Models/MMD.h5')"
   ]
  }
 ],
 "metadata": {
  "colab": {
   "name": "model_build_moodradio.ipynb",
   "provenance": []
  },
  "kernelspec": {
   "display_name": "Python 3 (ipykernel)",
   "language": "python",
   "name": "python3"
  },
  "language_info": {
   "codemirror_mode": {
    "name": "ipython",
    "version": 3
   },
   "file_extension": ".py",
   "mimetype": "text/x-python",
   "name": "python",
   "nbconvert_exporter": "python",
   "pygments_lexer": "ipython3",
   "version": "3.8.12"
  }
 },
 "nbformat": 4,
 "nbformat_minor": 1
}
