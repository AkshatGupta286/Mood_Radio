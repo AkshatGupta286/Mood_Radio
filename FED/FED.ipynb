{
 "cells": [
  {
   "cell_type": "markdown",
   "metadata": {
    "colab_type": "text",
    "id": "view-in-github"
   },
   "source": [
    "<a href=\"https://colab.research.google.com/github/AkshatGupta286/Mood_Radio/blob/main/FER/FER.ipynb\" target=\"_parent\"><img src=\"https://colab.research.google.com/assets/colab-badge.svg\" alt=\"Open In Colab\"/></a>"
   ]
  },
  {
   "cell_type": "code",
   "execution_count": 1,
   "metadata": {
    "_cell_guid": "b1076dfc-b9ad-4769-8c92-a6c4dae69d19",
    "_uuid": "8f2839f25d086af736a60e9eeb907d3b93b6e0e5",
    "id": "rWDbXn64B6TV"
   },
   "outputs": [],
   "source": [
    "import numpy as np # linear algebra\n",
    "import pandas as pd # data processing, CSV file I/O (e.g. pd.read_csv)\n",
    "import os\n",
    "import matplotlib.pyplot as plt\n",
    "import seaborn as sns\n",
    "import tensorflow as tf \n",
    "import keras\n",
    "from keras.preprocessing import image\n",
    "from keras.models import Sequential\n",
    "from keras.layers import Conv2D, MaxPool2D, Flatten,Dense,Dropout,BatchNormalization\n",
    "from tensorflow.keras.preprocessing.image import ImageDataGenerator\n",
    "from tensorflow.keras.applications import VGG16, InceptionResNetV2\n",
    "from keras import regularizers\n",
    "from tensorflow.keras.optimizers import Adam,RMSprop,SGD,Adamax"
   ]
  },
  {
   "cell_type": "code",
   "execution_count": 2,
   "metadata": {
    "colab": {
     "base_uri": "https://localhost:8080/"
    },
    "id": "44lKmAjsB6Tb",
    "outputId": "0dfdf4b9-1e58-49dd-8019-08b8225b0501"
   },
   "outputs": [
    {
     "name": "stdout",
     "output_type": "stream",
     "text": [
      "Done\n"
     ]
    }
   ],
   "source": [
    "from zipfile import ZipFile\n",
    "file_name = '/content/FER2013.zip'\n",
    "\n",
    "with ZipFile(file_name, 'r') as zip:\n",
    "  zip.extractall()\n",
    "  print('Done')"
   ]
  },
  {
   "cell_type": "code",
   "execution_count": 3,
   "metadata": {
    "id": "Gk49_Et8Dn0J"
   },
   "outputs": [],
   "source": [
    "train_dir = '/content/train'\n",
    "test_dir = '/content/test'"
   ]
  },
  {
   "cell_type": "code",
   "execution_count": 4,
   "metadata": {
    "id": "ek5NTwEyB6Tb"
   },
   "outputs": [],
   "source": [
    "img_size = 48 #original size of the image"
   ]
  },
  {
   "cell_type": "code",
   "execution_count": 5,
   "metadata": {
    "id": "wV8dB-YQB6Tc"
   },
   "outputs": [],
   "source": [
    "\"\"\"\n",
    "Data Augmentation\n",
    "--------------------------\n",
    "rotation_range = rotates the image with the amount of degrees we provide\n",
    "width_shift_range = shifts the image randomly to the right or left along the width of the image\n",
    "height_shift range = shifts image randomly to up or below along the height of the image\n",
    "horizontal_flip = flips the image horizontally\n",
    "rescale = to scale down the pizel values in our image between 0 and 1\n",
    "zoom_range = applies random zoom to our object\n",
    "validation_split = reserves some images to be used for validation purpose\n",
    "\"\"\"\n",
    "\n",
    "train_datagen = ImageDataGenerator(#rotation_range = 180,\n",
    "                                         width_shift_range = 0.1,\n",
    "                                         height_shift_range = 0.1,\n",
    "                                         horizontal_flip = True,\n",
    "                                         rescale = 1./255,\n",
    "                                         #zoom_range = 0.2,\n",
    "                                         validation_split = 0.2\n",
    "                                        )\n",
    "\n",
    "validation_datagen = ImageDataGenerator(rescale = 1./255,\n",
    "                                         validation_split = 0.2)"
   ]
  },
  {
   "cell_type": "code",
   "execution_count": 6,
   "metadata": {
    "colab": {
     "base_uri": "https://localhost:8080/"
    },
    "id": "uTQ2LnZrB6Td",
    "outputId": "9296e614-5dac-4ba5-adf7-69bac47f420c"
   },
   "outputs": [
    {
     "name": "stdout",
     "output_type": "stream",
     "text": [
      "Found 12832 images belonging to 3 classes.\n",
      "Found 3208 images belonging to 3 classes.\n"
     ]
    }
   ],
   "source": [
    "\"\"\"\n",
    "Applying data augmentation to the images as we read \n",
    "them from their respectivve directories\n",
    "\"\"\"\n",
    "train_generator = train_datagen.flow_from_directory(directory = train_dir,\n",
    "                                                    target_size = (img_size,img_size),\n",
    "                                                    batch_size = 64,\n",
    "                                                    color_mode = \"grayscale\",\n",
    "                                                    class_mode = \"categorical\",\n",
    "                                                    subset = \"training\"\n",
    "                                                   )\n",
    "\n",
    "validation_generator = validation_datagen.flow_from_directory( directory = train_dir,\n",
    "                                                              target_size = (img_size,img_size),\n",
    "                                                              batch_size = 64,\n",
    "                                                              color_mode = \"grayscale\",\n",
    "                                                              class_mode = \"categorical\",\n",
    "                                                              subset = \"validation\"\n",
    "                                                             )"
   ]
  },
  {
   "cell_type": "code",
   "execution_count": 7,
   "metadata": {
    "colab": {
     "base_uri": "https://localhost:8080/"
    },
    "id": "m0JQe04lB6Tg",
    "outputId": "aea4c847-c109-4c5e-f5e2-f51be53de46f"
   },
   "outputs": [
    {
     "name": "stderr",
     "output_type": "stream",
     "text": [
      "/usr/local/lib/python3.7/dist-packages/keras/optimizer_v2/optimizer_v2.py:356: UserWarning: The `lr` argument is deprecated, use `learning_rate` instead.\n",
      "  \"The `lr` argument is deprecated, use `learning_rate` instead.\")\n"
     ]
    }
   ],
   "source": [
    "model= tf.keras.models.Sequential()\n",
    "model.add(Conv2D(32, kernel_size=(3, 3), padding='same', activation='relu', input_shape=(48, 48, 1)))\n",
    "model.add(Conv2D(64,(3,3), padding='same', activation='relu' ))\n",
    "model.add(BatchNormalization())\n",
    "model.add(MaxPool2D(pool_size=(2, 2)))\n",
    "model.add(Dropout(0.25))\n",
    "\n",
    "model.add(Conv2D(128,(5,5), padding='same', activation='relu'))\n",
    "model.add(BatchNormalization())\n",
    "model.add(MaxPool2D(pool_size=(2, 2)))\n",
    "model.add(Dropout(0.25))\n",
    "    \n",
    "model.add(Conv2D(512,(3,3), padding='same', activation='relu', kernel_regularizer=regularizers.l2(0.01)))\n",
    "model.add(BatchNormalization())\n",
    "model.add(MaxPool2D(pool_size=(2, 2)))\n",
    "model.add(Dropout(0.25))\n",
    "\n",
    "model.add(Conv2D(512,(3,3), padding='same', activation='relu', kernel_regularizer=regularizers.l2(0.01)))\n",
    "model.add(BatchNormalization())\n",
    "model.add(MaxPool2D(pool_size=(2, 2)))\n",
    "model.add(Dropout(0.25))\n",
    "\n",
    "model.add(Flatten()) \n",
    "model.add(Dense(256,activation = 'relu'))\n",
    "model.add(BatchNormalization())\n",
    "model.add(Dropout(0.25))\n",
    "    \n",
    "model.add(Dense(512,activation = 'relu'))\n",
    "model.add(BatchNormalization())\n",
    "model.add(Dropout(0.25))\n",
    "\n",
    "model.add(Dense(3, activation='softmax'))\n",
    "\n",
    "model.compile(\n",
    "    optimizer = Adam(lr=0.0001), \n",
    "    loss='categorical_crossentropy', \n",
    "    metrics=['accuracy']\n",
    "  )"
   ]
  },
  {
   "cell_type": "code",
   "execution_count": 8,
   "metadata": {
    "id": "oGhSIA3UB6Th"
   },
   "outputs": [],
   "source": [
    "epochs = 60\n",
    "batch_size = 64"
   ]
  },
  {
   "cell_type": "code",
   "execution_count": 9,
   "metadata": {
    "colab": {
     "base_uri": "https://localhost:8080/"
    },
    "id": "-az8vfr0B6Ti",
    "outputId": "06c3b4e5-e8cc-4c70-d77d-eab556c27393"
   },
   "outputs": [
    {
     "name": "stdout",
     "output_type": "stream",
     "text": [
      "Model: \"sequential\"\n",
      "_________________________________________________________________\n",
      "Layer (type)                 Output Shape              Param #   \n",
      "=================================================================\n",
      "conv2d (Conv2D)              (None, 48, 48, 32)        320       \n",
      "_________________________________________________________________\n",
      "conv2d_1 (Conv2D)            (None, 48, 48, 64)        18496     \n",
      "_________________________________________________________________\n",
      "batch_normalization (BatchNo (None, 48, 48, 64)        256       \n",
      "_________________________________________________________________\n",
      "max_pooling2d (MaxPooling2D) (None, 24, 24, 64)        0         \n",
      "_________________________________________________________________\n",
      "dropout (Dropout)            (None, 24, 24, 64)        0         \n",
      "_________________________________________________________________\n",
      "conv2d_2 (Conv2D)            (None, 24, 24, 128)       204928    \n",
      "_________________________________________________________________\n",
      "batch_normalization_1 (Batch (None, 24, 24, 128)       512       \n",
      "_________________________________________________________________\n",
      "max_pooling2d_1 (MaxPooling2 (None, 12, 12, 128)       0         \n",
      "_________________________________________________________________\n",
      "dropout_1 (Dropout)          (None, 12, 12, 128)       0         \n",
      "_________________________________________________________________\n",
      "conv2d_3 (Conv2D)            (None, 12, 12, 512)       590336    \n",
      "_________________________________________________________________\n",
      "batch_normalization_2 (Batch (None, 12, 12, 512)       2048      \n",
      "_________________________________________________________________\n",
      "max_pooling2d_2 (MaxPooling2 (None, 6, 6, 512)         0         \n",
      "_________________________________________________________________\n",
      "dropout_2 (Dropout)          (None, 6, 6, 512)         0         \n",
      "_________________________________________________________________\n",
      "conv2d_4 (Conv2D)            (None, 6, 6, 512)         2359808   \n",
      "_________________________________________________________________\n",
      "batch_normalization_3 (Batch (None, 6, 6, 512)         2048      \n",
      "_________________________________________________________________\n",
      "max_pooling2d_3 (MaxPooling2 (None, 3, 3, 512)         0         \n",
      "_________________________________________________________________\n",
      "dropout_3 (Dropout)          (None, 3, 3, 512)         0         \n",
      "_________________________________________________________________\n",
      "flatten (Flatten)            (None, 4608)              0         \n",
      "_________________________________________________________________\n",
      "dense (Dense)                (None, 256)               1179904   \n",
      "_________________________________________________________________\n",
      "batch_normalization_4 (Batch (None, 256)               1024      \n",
      "_________________________________________________________________\n",
      "dropout_4 (Dropout)          (None, 256)               0         \n",
      "_________________________________________________________________\n",
      "dense_1 (Dense)              (None, 512)               131584    \n",
      "_________________________________________________________________\n",
      "batch_normalization_5 (Batch (None, 512)               2048      \n",
      "_________________________________________________________________\n",
      "dropout_5 (Dropout)          (None, 512)               0         \n",
      "_________________________________________________________________\n",
      "dense_2 (Dense)              (None, 3)                 1539      \n",
      "=================================================================\n",
      "Total params: 4,494,851\n",
      "Trainable params: 4,490,883\n",
      "Non-trainable params: 3,968\n",
      "_________________________________________________________________\n"
     ]
    }
   ],
   "source": [
    "model.summary()"
   ]
  },
  {
   "cell_type": "code",
   "execution_count": 10,
   "metadata": {
    "colab": {
     "base_uri": "https://localhost:8080/"
    },
    "id": "3YRbeEKyB6Ti",
    "outputId": "754a89ed-fab4-417c-b911-840e00da62d7"
   },
   "outputs": [
    {
     "name": "stdout",
     "output_type": "stream",
     "text": [
      "Epoch 1/60\n",
      "201/201 [==============================] - 23s 92ms/step - loss: 8.4697 - accuracy: 0.3899 - val_loss: 7.9627 - val_accuracy: 0.4498\n",
      "Epoch 2/60\n",
      "201/201 [==============================] - 17s 86ms/step - loss: 7.9185 - accuracy: 0.4121 - val_loss: 7.6398 - val_accuracy: 0.3229\n",
      "Epoch 3/60\n",
      "201/201 [==============================] - 17s 86ms/step - loss: 7.3696 - accuracy: 0.4369 - val_loss: 6.9793 - val_accuracy: 0.4589\n",
      "Epoch 4/60\n",
      "201/201 [==============================] - 17s 86ms/step - loss: 6.8252 - accuracy: 0.4469 - val_loss: 6.5349 - val_accuracy: 0.4735\n",
      "Epoch 5/60\n",
      "201/201 [==============================] - 17s 85ms/step - loss: 6.2662 - accuracy: 0.4560 - val_loss: 6.1166 - val_accuracy: 0.4673\n",
      "Epoch 6/60\n",
      "201/201 [==============================] - 17s 85ms/step - loss: 5.7175 - accuracy: 0.4710 - val_loss: 5.5161 - val_accuracy: 0.4872\n",
      "Epoch 7/60\n",
      "201/201 [==============================] - 17s 85ms/step - loss: 5.1824 - accuracy: 0.4956 - val_loss: 4.9013 - val_accuracy: 0.5209\n",
      "Epoch 8/60\n",
      "201/201 [==============================] - 17s 85ms/step - loss: 4.6716 - accuracy: 0.5214 - val_loss: 4.5259 - val_accuracy: 0.5281\n",
      "Epoch 9/60\n",
      "201/201 [==============================] - 17s 86ms/step - loss: 4.2128 - accuracy: 0.5468 - val_loss: 3.9510 - val_accuracy: 0.5723\n",
      "Epoch 10/60\n",
      "201/201 [==============================] - 17s 86ms/step - loss: 3.8054 - accuracy: 0.5657 - val_loss: 3.7324 - val_accuracy: 0.5779\n",
      "Epoch 11/60\n",
      "201/201 [==============================] - 17s 86ms/step - loss: 3.4646 - accuracy: 0.5759 - val_loss: 3.2366 - val_accuracy: 0.6026\n",
      "Epoch 12/60\n",
      "201/201 [==============================] - 17s 86ms/step - loss: 3.1349 - accuracy: 0.5979 - val_loss: 3.0962 - val_accuracy: 0.6144\n",
      "Epoch 13/60\n",
      "201/201 [==============================] - 17s 86ms/step - loss: 2.8465 - accuracy: 0.6244 - val_loss: 2.7889 - val_accuracy: 0.6350\n",
      "Epoch 14/60\n",
      "201/201 [==============================] - 17s 86ms/step - loss: 2.5767 - accuracy: 0.6414 - val_loss: 2.4910 - val_accuracy: 0.6559\n",
      "Epoch 15/60\n",
      "201/201 [==============================] - 17s 86ms/step - loss: 2.3779 - accuracy: 0.6463 - val_loss: 2.3018 - val_accuracy: 0.6674\n",
      "Epoch 16/60\n",
      "201/201 [==============================] - 17s 86ms/step - loss: 2.1774 - accuracy: 0.6644 - val_loss: 2.0244 - val_accuracy: 0.6908\n",
      "Epoch 17/60\n",
      "201/201 [==============================] - 17s 86ms/step - loss: 1.9877 - accuracy: 0.6788 - val_loss: 1.8976 - val_accuracy: 0.6880\n",
      "Epoch 18/60\n",
      "201/201 [==============================] - 17s 85ms/step - loss: 1.8226 - accuracy: 0.6910 - val_loss: 1.7333 - val_accuracy: 0.7126\n",
      "Epoch 19/60\n",
      "201/201 [==============================] - 17s 86ms/step - loss: 1.6738 - accuracy: 0.7047 - val_loss: 1.6037 - val_accuracy: 0.7285\n",
      "Epoch 20/60\n",
      "201/201 [==============================] - 17s 86ms/step - loss: 1.5693 - accuracy: 0.7139 - val_loss: 1.5138 - val_accuracy: 0.7160\n",
      "Epoch 21/60\n",
      "201/201 [==============================] - 17s 87ms/step - loss: 1.4608 - accuracy: 0.7187 - val_loss: 1.3765 - val_accuracy: 0.7435\n",
      "Epoch 22/60\n",
      "201/201 [==============================] - 17s 86ms/step - loss: 1.3765 - accuracy: 0.7231 - val_loss: 1.2719 - val_accuracy: 0.7534\n",
      "Epoch 23/60\n",
      "201/201 [==============================] - 17s 86ms/step - loss: 1.2889 - accuracy: 0.7373 - val_loss: 1.2318 - val_accuracy: 0.7422\n",
      "Epoch 24/60\n",
      "201/201 [==============================] - 17s 86ms/step - loss: 1.2142 - accuracy: 0.7418 - val_loss: 1.2196 - val_accuracy: 0.7447\n",
      "Epoch 25/60\n",
      "201/201 [==============================] - 17s 86ms/step - loss: 1.1554 - accuracy: 0.7494 - val_loss: 1.1133 - val_accuracy: 0.7622\n",
      "Epoch 26/60\n",
      "201/201 [==============================] - 17s 86ms/step - loss: 1.1012 - accuracy: 0.7583 - val_loss: 1.0821 - val_accuracy: 0.7553\n",
      "Epoch 27/60\n",
      "201/201 [==============================] - 17s 86ms/step - loss: 1.0583 - accuracy: 0.7545 - val_loss: 1.0224 - val_accuracy: 0.7777\n",
      "Epoch 28/60\n",
      "201/201 [==============================] - 17s 86ms/step - loss: 1.0122 - accuracy: 0.7618 - val_loss: 0.9834 - val_accuracy: 0.7671\n",
      "Epoch 29/60\n",
      "201/201 [==============================] - 17s 86ms/step - loss: 0.9775 - accuracy: 0.7672 - val_loss: 0.9699 - val_accuracy: 0.7715\n",
      "Epoch 30/60\n",
      "201/201 [==============================] - 17s 87ms/step - loss: 0.9550 - accuracy: 0.7701 - val_loss: 0.9318 - val_accuracy: 0.7774\n",
      "Epoch 31/60\n",
      "201/201 [==============================] - 18s 87ms/step - loss: 0.9325 - accuracy: 0.7717 - val_loss: 0.9111 - val_accuracy: 0.7709\n",
      "Epoch 32/60\n",
      "201/201 [==============================] - 18s 88ms/step - loss: 0.9064 - accuracy: 0.7799 - val_loss: 0.8866 - val_accuracy: 0.7809\n",
      "Epoch 33/60\n",
      "201/201 [==============================] - 17s 86ms/step - loss: 0.8816 - accuracy: 0.7854 - val_loss: 0.9361 - val_accuracy: 0.7509\n",
      "Epoch 34/60\n",
      "201/201 [==============================] - 17s 86ms/step - loss: 0.8519 - accuracy: 0.7917 - val_loss: 0.8593 - val_accuracy: 0.7777\n",
      "Epoch 35/60\n",
      "201/201 [==============================] - 17s 86ms/step - loss: 0.8543 - accuracy: 0.7865 - val_loss: 0.8774 - val_accuracy: 0.7752\n",
      "Epoch 36/60\n",
      "201/201 [==============================] - 17s 86ms/step - loss: 0.8458 - accuracy: 0.7894 - val_loss: 0.8588 - val_accuracy: 0.7784\n",
      "Epoch 37/60\n",
      "201/201 [==============================] - 17s 87ms/step - loss: 0.8350 - accuracy: 0.7942 - val_loss: 0.8314 - val_accuracy: 0.7940\n",
      "Epoch 38/60\n",
      "201/201 [==============================] - 17s 86ms/step - loss: 0.8279 - accuracy: 0.7947 - val_loss: 0.8463 - val_accuracy: 0.7796\n",
      "Epoch 39/60\n",
      "201/201 [==============================] - 17s 86ms/step - loss: 0.8044 - accuracy: 0.7991 - val_loss: 0.8746 - val_accuracy: 0.7759\n",
      "Epoch 40/60\n",
      "201/201 [==============================] - 17s 86ms/step - loss: 0.8144 - accuracy: 0.7952 - val_loss: 0.8249 - val_accuracy: 0.7908\n",
      "Epoch 41/60\n",
      "201/201 [==============================] - 17s 86ms/step - loss: 0.7974 - accuracy: 0.8023 - val_loss: 0.8136 - val_accuracy: 0.7927\n",
      "Epoch 42/60\n",
      "201/201 [==============================] - 17s 86ms/step - loss: 0.7852 - accuracy: 0.8103 - val_loss: 0.8069 - val_accuracy: 0.7899\n",
      "Epoch 43/60\n",
      "201/201 [==============================] - 17s 86ms/step - loss: 0.7712 - accuracy: 0.8113 - val_loss: 0.8120 - val_accuracy: 0.7940\n",
      "Epoch 44/60\n",
      "201/201 [==============================] - 17s 86ms/step - loss: 0.7661 - accuracy: 0.8116 - val_loss: 0.8245 - val_accuracy: 0.7877\n",
      "Epoch 45/60\n",
      "201/201 [==============================] - 17s 86ms/step - loss: 0.7667 - accuracy: 0.8091 - val_loss: 0.8123 - val_accuracy: 0.7936\n",
      "Epoch 46/60\n",
      "201/201 [==============================] - 17s 86ms/step - loss: 0.7475 - accuracy: 0.8192 - val_loss: 0.8036 - val_accuracy: 0.8005\n",
      "Epoch 47/60\n",
      "201/201 [==============================] - 17s 86ms/step - loss: 0.7542 - accuracy: 0.8196 - val_loss: 0.8326 - val_accuracy: 0.7799\n",
      "Epoch 48/60\n",
      "201/201 [==============================] - 17s 86ms/step - loss: 0.7499 - accuracy: 0.8191 - val_loss: 0.8375 - val_accuracy: 0.7812\n",
      "Epoch 49/60\n",
      "201/201 [==============================] - 17s 86ms/step - loss: 0.7548 - accuracy: 0.8182 - val_loss: 0.7852 - val_accuracy: 0.8005\n",
      "Epoch 50/60\n",
      "201/201 [==============================] - 18s 87ms/step - loss: 0.7411 - accuracy: 0.8237 - val_loss: 0.8216 - val_accuracy: 0.7905\n",
      "Epoch 51/60\n",
      "201/201 [==============================] - 17s 87ms/step - loss: 0.7499 - accuracy: 0.8220 - val_loss: 0.8163 - val_accuracy: 0.7868\n",
      "Epoch 52/60\n",
      "201/201 [==============================] - 17s 87ms/step - loss: 0.7376 - accuracy: 0.8285 - val_loss: 0.8175 - val_accuracy: 0.7971\n",
      "Epoch 53/60\n",
      "201/201 [==============================] - 17s 86ms/step - loss: 0.7393 - accuracy: 0.8291 - val_loss: 0.8462 - val_accuracy: 0.7874\n",
      "Epoch 54/60\n",
      "201/201 [==============================] - 17s 85ms/step - loss: 0.7441 - accuracy: 0.8275 - val_loss: 0.8330 - val_accuracy: 0.7858\n",
      "Epoch 55/60\n",
      "201/201 [==============================] - 17s 86ms/step - loss: 0.7398 - accuracy: 0.8267 - val_loss: 0.7997 - val_accuracy: 0.8127\n",
      "Epoch 56/60\n",
      "201/201 [==============================] - 17s 86ms/step - loss: 0.7290 - accuracy: 0.8360 - val_loss: 0.8093 - val_accuracy: 0.7921\n",
      "Epoch 57/60\n",
      "201/201 [==============================] - 17s 86ms/step - loss: 0.7269 - accuracy: 0.8370 - val_loss: 0.8433 - val_accuracy: 0.7899\n",
      "Epoch 58/60\n",
      "201/201 [==============================] - 17s 87ms/step - loss: 0.7270 - accuracy: 0.8348 - val_loss: 0.8005 - val_accuracy: 0.8039\n",
      "Epoch 59/60\n",
      "201/201 [==============================] - 17s 86ms/step - loss: 0.7180 - accuracy: 0.8397 - val_loss: 0.7994 - val_accuracy: 0.8061\n",
      "Epoch 60/60\n",
      "201/201 [==============================] - 17s 86ms/step - loss: 0.7173 - accuracy: 0.8370 - val_loss: 0.7982 - val_accuracy: 0.8036\n"
     ]
    }
   ],
   "source": [
    "history = model.fit(x = train_generator, epochs = epochs, validation_data = validation_generator)"
   ]
  },
  {
   "cell_type": "code",
   "execution_count": 11,
   "metadata": {
    "colab": {
     "base_uri": "https://localhost:8080/",
     "height": 295
    },
    "id": "ZfAXSX5rB6Tj",
    "outputId": "a4e7ee59-051f-461a-e507-62da681c84ad"
   },
   "outputs": [
    {
     "data": {
      "image/png": "[encoded data removed]",
      "text/plain": [
       "<Figure size 864x288 with 2 Axes>"
      ]
     },
     "metadata": {
      "needs_background": "light"
     },
     "output_type": "display_data"
    }
   ],
   "source": [
    "fig , ax = plt.subplots(1,2)\n",
    "train_acc = history.history['accuracy']\n",
    "train_loss = history.history['loss']\n",
    "fig.set_size_inches(12,4)\n",
    "\n",
    "ax[0].plot(history.history['accuracy'])\n",
    "ax[0].plot(history.history['val_accuracy'])\n",
    "ax[0].set_title('Training Accuracy vs Validation Accuracy')\n",
    "ax[0].set_ylabel('Accuracy')\n",
    "ax[0].set_xlabel('Epoch')\n",
    "ax[0].legend(['Train', 'Validation'], loc='upper left')\n",
    "\n",
    "ax[1].plot(history.history['loss'])\n",
    "ax[1].plot(history.history['val_loss'])\n",
    "ax[1].set_title('Training Loss vs Validation Loss')\n",
    "ax[1].set_ylabel('Loss')\n",
    "ax[1].set_xlabel('Epoch')\n",
    "ax[1].legend(['Train', 'Validation'], loc='upper left')\n",
    "\n",
    "plt.show()"
   ]
  },
  {
   "cell_type": "code",
   "execution_count": 12,
   "metadata": {
    "id": "xNzJxM0RB6Tk"
   },
   "outputs": [],
   "source": [
    "model.save('FED.h5')"
   ]
  },
  {
   "cell_type": "code",
   "execution_count": 13,
   "metadata": {
    "colab": {
     "base_uri": "https://localhost:8080/"
    },
    "id": "ietbTxTSd0CM",
    "outputId": "1316ee3e-a741-4546-a530-7d09b9a90eb4"
   },
   "outputs": [
    {
     "name": "stdout",
     "output_type": "stream",
     "text": [
      "Found 3979 images belonging to 3 classes.\n",
      "63/63 [==============================] - 2s 36ms/step - loss: 0.7929 - accuracy: 0.8035\n",
      "\n",
      "Final Test Accuracy = 80.35%\n"
     ]
    }
   ],
   "source": [
    "test_datagen = ImageDataGenerator(rescale = 1./255)\n",
    "test_generator = test_datagen.flow_from_directory( directory = test_dir,  \n",
    "                                                              target_size = (img_size,img_size),\n",
    "                                                              batch_size = 64,\n",
    "                                                              color_mode = \"grayscale\",\n",
    "                                                              class_mode = \"categorical\",\n",
    "                                                              subset = \"training\"\n",
    "                                                             )\n",
    "\n",
    "test_loss, test_acc   = model.evaluate(test_generator)\n",
    "\n",
    "print(\"\\nFinal Test Accuracy = {:.2f}%\".format(test_acc*100))"
   ]
  }
 ],
 "metadata": {
  "accelerator": "GPU",
  "colab": {
   "collapsed_sections": [],
   "include_colab_link": true,
   "name": "FER(VGG).ipynb",
   "provenance": []
  },
  "kernelspec": {
   "display_name": "Python 3 (ipykernel)",
   "language": "python",
   "name": "python3"
  },
  "language_info": {
   "codemirror_mode": {
    "name": "ipython",
    "version": 3
   },
   "file_extension": ".py",
   "mimetype": "text/x-python",
   "name": "python",
   "nbconvert_exporter": "python",
   "pygments_lexer": "ipython3",
   "version": "3.8.12"
  }
 },
 "nbformat": 4,
 "nbformat_minor": 1
}
