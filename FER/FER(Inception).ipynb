{
  "nbformat": 4,
  "nbformat_minor": 0,
  "metadata": {
    "colab": {
      "name": "FER(Inception).ipynb",
      "provenance": [],
      "collapsed_sections": [],
      "authorship_tag": "ABX9TyNal9wT49WDzvNDvixZYpEL",
      "include_colab_link": true
    },
    "kernelspec": {
      "name": "python3",
      "display_name": "Python 3"
    },
    "language_info": {
      "name": "python"
    },
    "accelerator": "GPU"
  },
  "cells": [
    {
      "cell_type": "markdown",
      "metadata": {
        "id": "view-in-github",
        "colab_type": "text"
      },
      "source": [
        "<a href=\"https://colab.research.google.com/github/AkshatGupta286/Mood_Radio/blob/main/FER(Inception).ipynb\" target=\"_parent\"><img src=\"https://colab.research.google.com/assets/colab-badge.svg\" alt=\"Open In Colab\"/></a>"
      ]
    },
    {
      "cell_type": "code",
      "metadata": {
        "colab": {
          "base_uri": "https://localhost:8080/"
        },
        "id": "YeitcoAjMKOj",
        "outputId": "1f533fbd-348c-44e0-eeff-070a3fbdedc3"
      },
      "source": [
        "import numpy as np # linear algebra\n",
        "import pandas as pd # data processing, CSV file I/O (e.g. pd.read_csv)\n",
        "import os\n",
        "import matplotlib.pyplot as plt\n",
        "import seaborn as sns\n",
        "import tensorflow as tf \n",
        "import keras\n",
        "from keras.preprocessing import image\n",
        "from keras.models import Sequential\n",
        "from keras.layers import Conv2D, MaxPool2D, Flatten,Dense,Dropout,BatchNormalization\n",
        "from tensorflow.keras.preprocessing.image import ImageDataGenerator\n",
        "import cv2\n",
        "from tensorflow.keras.applications import VGG16, InceptionResNetV2\n",
        "from keras import regularizers\n",
        "from tensorflow.keras.optimizers import Adam,RMSprop,SGD,Adamax\n",
        "!pip install mtcnn\n",
        "import mtcnn"
      ],
      "execution_count": null,
      "outputs": [
        {
          "output_type": "stream",
          "name": "stdout",
          "text": [
            "Collecting mtcnn\n",
            "  Downloading mtcnn-0.1.1-py3-none-any.whl (2.3 MB)\n",
            "\u001b[K     |████████████████████████████████| 2.3 MB 5.3 MB/s \n",
            "\u001b[?25hRequirement already satisfied: opencv-python>=4.1.0 in /usr/local/lib/python3.7/dist-packages (from mtcnn) (4.1.2.30)\n",
            "Requirement already satisfied: keras>=2.0.0 in /usr/local/lib/python3.7/dist-packages (from mtcnn) (2.6.0)\n",
            "Requirement already satisfied: numpy>=1.14.5 in /usr/local/lib/python3.7/dist-packages (from opencv-python>=4.1.0->mtcnn) (1.19.5)\n",
            "Installing collected packages: mtcnn\n",
            "Successfully installed mtcnn-0.1.1\n"
          ]
        }
      ]
    },
    {
      "cell_type": "code",
      "metadata": {
        "colab": {
          "base_uri": "https://localhost:8080/"
        },
        "id": "RpliI4N9MYon",
        "outputId": "76e9b05d-9ccd-486c-d003-9f7a0a47808b"
      },
      "source": [
        "# train_dir = \"Datasets/FER2013/train\" #passing the path with training images\n",
        "# test_dir = \"Datasets/FER2013/test\"   #passing the path with testing images\n",
        "\n",
        "from zipfile import ZipFile\n",
        "file_name = '/content/FER2013.zip'\n",
        "\n",
        "with ZipFile(file_name, 'r') as zip:\n",
        "  zip.extractall()\n",
        "  print('Done')"
      ],
      "execution_count": null,
      "outputs": [
        {
          "output_type": "stream",
          "name": "stdout",
          "text": [
            "Done\n"
          ]
        }
      ]
    },
    {
      "cell_type": "code",
      "metadata": {
        "id": "5sPUBSxzMpUT"
      },
      "source": [
        "train_dir = '/content/train'\n",
        "test_dir = '/content/test'"
      ],
      "execution_count": null,
      "outputs": []
    },
    {
      "cell_type": "code",
      "metadata": {
        "id": "5eG1uJDSMq-o"
      },
      "source": [
        "img_size = 48 #original size of the image"
      ],
      "execution_count": null,
      "outputs": []
    },
    {
      "cell_type": "code",
      "metadata": {
        "id": "2gkCjR96MtR9"
      },
      "source": [
        "\"\"\"\n",
        "Data Augmentation\n",
        "--------------------------\n",
        "rotation_range = rotates the image with the amount of degrees we provide\n",
        "width_shift_range = shifts the image randomly to the right or left along the width of the image\n",
        "height_shift range = shifts image randomly to up or below along the height of the image\n",
        "horizontal_flip = flips the image horizontally\n",
        "rescale = to scale down the pizel values in our image between 0 and 1\n",
        "zoom_range = applies random zoom to our object\n",
        "validation_split = reserves some images to be used for validation purpose\n",
        "\"\"\"\n",
        "\n",
        "train_datagen = ImageDataGenerator(#rotation_range = 180,\n",
        "                                         width_shift_range = 0.1,\n",
        "                                         height_shift_range = 0.1,\n",
        "                                         horizontal_flip = True,\n",
        "                                         rescale = 1./255,\n",
        "                                         #zoom_range = 0.2,\n",
        "                                         validation_split = 0.2\n",
        "                                        )\n",
        "\n",
        "validation_datagen = ImageDataGenerator(rescale = 1./255,\n",
        "                                         validation_split = 0.2)"
      ],
      "execution_count": null,
      "outputs": []
    },
    {
      "cell_type": "code",
      "metadata": {
        "colab": {
          "base_uri": "https://localhost:8080/"
        },
        "id": "bVWYc7WaMuDf",
        "outputId": "4bb2a30a-2ca5-4f64-a5d8-07b376dabcbf"
      },
      "source": [
        "\"\"\"\n",
        "Applying data augmentation to the images as we read \n",
        "them from their respectivve directories\n",
        "\"\"\"\n",
        "train_generator = train_datagen.flow_from_directory(directory = train_dir,\n",
        "                                                    target_size = (img_size,img_size),\n",
        "                                                    batch_size = 64,\n",
        "                                                    color_mode = \"grayscale\",\n",
        "                                                    class_mode = \"categorical\",\n",
        "                                                    subset = \"training\"\n",
        "                                                   )\n",
        "\n",
        "validation_generator = validation_datagen.flow_from_directory( directory = train_dir,\n",
        "                                                              target_size = (img_size,img_size),\n",
        "                                                              batch_size = 64,\n",
        "                                                              color_mode = \"grayscale\",\n",
        "                                                              class_mode = \"categorical\",\n",
        "                                                              subset = \"validation\"\n",
        "                                                             )"
      ],
      "execution_count": null,
      "outputs": [
        {
          "output_type": "stream",
          "name": "stdout",
          "text": [
            "Found 12832 images belonging to 3 classes.\n",
            "Found 3208 images belonging to 3 classes.\n"
          ]
        }
      ]
    },
    {
      "cell_type": "code",
      "metadata": {
        "colab": {
          "base_uri": "https://localhost:8080/"
        },
        "id": "2kdVs3GmLb1a",
        "outputId": "0f81bdc3-a964-40eb-d363-df4a56841756"
      },
      "source": [
        "# Modeling\n",
        "\n",
        "model = Sequential()\n",
        "model.add(Conv2D(filters = 64,kernel_size = (3,3),padding = 'same',activation = 'relu',input_shape=(img_size,img_size,1)))\n",
        "model.add(MaxPool2D(pool_size = 2,strides = 2))\n",
        "model.add(BatchNormalization())\n",
        "\n",
        "model.add(Conv2D(filters = 128,kernel_size = (3,3),padding = 'same',activation = 'relu'))\n",
        "model.add(MaxPool2D(pool_size = 2,strides = 2))\n",
        "model.add(BatchNormalization())\n",
        "model.add(Dropout(0.25))\n",
        "\n",
        "model.add(Conv2D(filters = 128,kernel_size = (3,3),padding = 'same',activation = 'relu'))\n",
        "model.add(MaxPool2D(pool_size = 2,strides = 2))\n",
        "model.add(BatchNormalization())\n",
        "model.add(Dropout(0.25))\n",
        "\n",
        "model.add(Conv2D(filters = 256,kernel_size = (3,3),padding = 'same',activation = 'relu'))\n",
        "model.add(MaxPool2D(pool_size = 2,strides = 2))\n",
        "model.add(BatchNormalization())\n",
        "\n",
        "model.add(Flatten())\n",
        "model.add(Dense(units = 128,activation = 'relu',kernel_initializer='he_normal'))\n",
        "model.add(Dropout(0.25))\n",
        "model.add(Dense(units = 64,activation = 'relu',kernel_initializer='he_normal'))\n",
        "model.add(BatchNormalization())\n",
        "model.add(Dropout(0.25))\n",
        "model.add(Dense(units = 32,activation = 'relu',kernel_initializer='he_normal'))\n",
        "model.add(Dense(3,activation = 'softmax'))\n",
        "\n",
        "model.compile(\n",
        "    optimizer = Adam(lr=0.0001), \n",
        "    loss='categorical_crossentropy', \n",
        "    metrics=['accuracy']\n",
        "  )"
      ],
      "execution_count": null,
      "outputs": [
        {
          "output_type": "stream",
          "name": "stderr",
          "text": [
            "/usr/local/lib/python3.7/dist-packages/keras/optimizer_v2/optimizer_v2.py:356: UserWarning: The `lr` argument is deprecated, use `learning_rate` instead.\n",
            "  \"The `lr` argument is deprecated, use `learning_rate` instead.\")\n"
          ]
        }
      ]
    },
    {
      "cell_type": "code",
      "metadata": {
        "id": "hrlTEoA8M4Il"
      },
      "source": [
        "epochs = 60\n",
        "batch_size = 64"
      ],
      "execution_count": null,
      "outputs": []
    },
    {
      "cell_type": "code",
      "metadata": {
        "colab": {
          "base_uri": "https://localhost:8080/"
        },
        "id": "04Om_2ljNCKq",
        "outputId": "3e62529b-86c7-4c24-cc3b-a947c8bcd2cc"
      },
      "source": [
        "model.summary()"
      ],
      "execution_count": null,
      "outputs": [
        {
          "output_type": "stream",
          "name": "stdout",
          "text": [
            "Model: \"sequential_3\"\n",
            "_________________________________________________________________\n",
            "Layer (type)                 Output Shape              Param #   \n",
            "=================================================================\n",
            "conv2d_12 (Conv2D)           (None, 48, 48, 64)        640       \n",
            "_________________________________________________________________\n",
            "max_pooling2d_12 (MaxPooling (None, 24, 24, 64)        0         \n",
            "_________________________________________________________________\n",
            "batch_normalization_15 (Batc (None, 24, 24, 64)        256       \n",
            "_________________________________________________________________\n",
            "conv2d_13 (Conv2D)           (None, 24, 24, 128)       73856     \n",
            "_________________________________________________________________\n",
            "max_pooling2d_13 (MaxPooling (None, 12, 12, 128)       0         \n",
            "_________________________________________________________________\n",
            "batch_normalization_16 (Batc (None, 12, 12, 128)       512       \n",
            "_________________________________________________________________\n",
            "dropout_12 (Dropout)         (None, 12, 12, 128)       0         \n",
            "_________________________________________________________________\n",
            "conv2d_14 (Conv2D)           (None, 12, 12, 128)       147584    \n",
            "_________________________________________________________________\n",
            "max_pooling2d_14 (MaxPooling (None, 6, 6, 128)         0         \n",
            "_________________________________________________________________\n",
            "batch_normalization_17 (Batc (None, 6, 6, 128)         512       \n",
            "_________________________________________________________________\n",
            "dropout_13 (Dropout)         (None, 6, 6, 128)         0         \n",
            "_________________________________________________________________\n",
            "conv2d_15 (Conv2D)           (None, 6, 6, 256)         295168    \n",
            "_________________________________________________________________\n",
            "max_pooling2d_15 (MaxPooling (None, 3, 3, 256)         0         \n",
            "_________________________________________________________________\n",
            "batch_normalization_18 (Batc (None, 3, 3, 256)         1024      \n",
            "_________________________________________________________________\n",
            "flatten_3 (Flatten)          (None, 2304)              0         \n",
            "_________________________________________________________________\n",
            "dense_12 (Dense)             (None, 128)               295040    \n",
            "_________________________________________________________________\n",
            "dropout_14 (Dropout)         (None, 128)               0         \n",
            "_________________________________________________________________\n",
            "dense_13 (Dense)             (None, 64)                8256      \n",
            "_________________________________________________________________\n",
            "batch_normalization_19 (Batc (None, 64)                256       \n",
            "_________________________________________________________________\n",
            "dropout_15 (Dropout)         (None, 64)                0         \n",
            "_________________________________________________________________\n",
            "dense_14 (Dense)             (None, 32)                2080      \n",
            "_________________________________________________________________\n",
            "dense_15 (Dense)             (None, 3)                 99        \n",
            "=================================================================\n",
            "Total params: 825,283\n",
            "Trainable params: 824,003\n",
            "Non-trainable params: 1,280\n",
            "_________________________________________________________________\n"
          ]
        }
      ]
    },
    {
      "cell_type": "code",
      "metadata": {
        "colab": {
          "base_uri": "https://localhost:8080/"
        },
        "id": "u5tAiz2oND1n",
        "outputId": "1bb05b0d-6761-472f-ac89-67bbdf18a106"
      },
      "source": [
        "history = model.fit(x = train_generator, epochs = epochs, validation_data = validation_generator)"
      ],
      "execution_count": null,
      "outputs": [
        {
          "output_type": "stream",
          "name": "stdout",
          "text": [
            "Epoch 1/60\n",
            "201/201 [==============================] - 46s 75ms/step - loss: 1.3253 - accuracy: 0.4151 - val_loss: 1.0853 - val_accuracy: 0.4498\n",
            "Epoch 2/60\n",
            "201/201 [==============================] - 14s 71ms/step - loss: 1.1819 - accuracy: 0.4323 - val_loss: 1.1312 - val_accuracy: 0.4489\n",
            "Epoch 3/60\n",
            "201/201 [==============================] - 14s 70ms/step - loss: 1.1385 - accuracy: 0.4437 - val_loss: 1.0508 - val_accuracy: 0.4663\n",
            "Epoch 4/60\n",
            "201/201 [==============================] - 14s 72ms/step - loss: 1.0992 - accuracy: 0.4570 - val_loss: 1.0503 - val_accuracy: 0.4763\n",
            "Epoch 5/60\n",
            "201/201 [==============================] - 15s 73ms/step - loss: 1.0802 - accuracy: 0.4665 - val_loss: 1.0152 - val_accuracy: 0.4988\n",
            "Epoch 6/60\n",
            "201/201 [==============================] - 15s 73ms/step - loss: 1.0484 - accuracy: 0.4820 - val_loss: 1.0029 - val_accuracy: 0.5065\n",
            "Epoch 7/60\n",
            "201/201 [==============================] - 14s 71ms/step - loss: 1.0239 - accuracy: 0.5041 - val_loss: 0.9954 - val_accuracy: 0.5153\n",
            "Epoch 8/60\n",
            "201/201 [==============================] - 15s 72ms/step - loss: 0.9907 - accuracy: 0.5214 - val_loss: 0.9995 - val_accuracy: 0.5224\n",
            "Epoch 9/60\n",
            "201/201 [==============================] - 15s 73ms/step - loss: 0.9670 - accuracy: 0.5356 - val_loss: 0.9221 - val_accuracy: 0.5651\n",
            "Epoch 10/60\n",
            "201/201 [==============================] - 15s 72ms/step - loss: 0.9438 - accuracy: 0.5447 - val_loss: 0.8794 - val_accuracy: 0.5820\n",
            "Epoch 11/60\n",
            "201/201 [==============================] - 15s 72ms/step - loss: 0.9164 - accuracy: 0.5595 - val_loss: 0.8630 - val_accuracy: 0.5923\n",
            "Epoch 12/60\n",
            "201/201 [==============================] - 15s 72ms/step - loss: 0.8922 - accuracy: 0.5736 - val_loss: 0.8029 - val_accuracy: 0.6169\n",
            "Epoch 13/60\n",
            "201/201 [==============================] - 15s 73ms/step - loss: 0.8665 - accuracy: 0.5912 - val_loss: 0.8432 - val_accuracy: 0.6228\n",
            "Epoch 14/60\n",
            "201/201 [==============================] - 15s 73ms/step - loss: 0.8429 - accuracy: 0.5954 - val_loss: 0.7693 - val_accuracy: 0.6443\n",
            "Epoch 15/60\n",
            "201/201 [==============================] - 15s 73ms/step - loss: 0.8293 - accuracy: 0.6117 - val_loss: 0.7498 - val_accuracy: 0.6481\n",
            "Epoch 16/60\n",
            "201/201 [==============================] - 15s 72ms/step - loss: 0.8139 - accuracy: 0.6176 - val_loss: 0.8665 - val_accuracy: 0.6259\n",
            "Epoch 17/60\n",
            "201/201 [==============================] - 15s 73ms/step - loss: 0.7975 - accuracy: 0.6281 - val_loss: 0.7527 - val_accuracy: 0.6496\n",
            "Epoch 18/60\n",
            "201/201 [==============================] - 15s 73ms/step - loss: 0.7705 - accuracy: 0.6443 - val_loss: 0.7394 - val_accuracy: 0.6471\n",
            "Epoch 19/60\n",
            "201/201 [==============================] - 15s 72ms/step - loss: 0.7695 - accuracy: 0.6478 - val_loss: 0.7214 - val_accuracy: 0.6665\n",
            "Epoch 20/60\n",
            "201/201 [==============================] - 15s 73ms/step - loss: 0.7528 - accuracy: 0.6533 - val_loss: 0.6942 - val_accuracy: 0.6858\n",
            "Epoch 21/60\n",
            "201/201 [==============================] - 15s 73ms/step - loss: 0.7464 - accuracy: 0.6605 - val_loss: 0.6719 - val_accuracy: 0.7032\n",
            "Epoch 22/60\n",
            "201/201 [==============================] - 15s 73ms/step - loss: 0.7284 - accuracy: 0.6714 - val_loss: 0.7471 - val_accuracy: 0.6746\n",
            "Epoch 23/60\n",
            "201/201 [==============================] - 15s 72ms/step - loss: 0.7169 - accuracy: 0.6779 - val_loss: 0.6655 - val_accuracy: 0.7001\n",
            "Epoch 24/60\n",
            "201/201 [==============================] - 15s 73ms/step - loss: 0.7117 - accuracy: 0.6828 - val_loss: 0.6961 - val_accuracy: 0.6914\n",
            "Epoch 25/60\n",
            "201/201 [==============================] - 15s 73ms/step - loss: 0.6936 - accuracy: 0.6920 - val_loss: 0.6412 - val_accuracy: 0.7166\n",
            "Epoch 26/60\n",
            "201/201 [==============================] - 15s 73ms/step - loss: 0.6826 - accuracy: 0.6936 - val_loss: 0.6286 - val_accuracy: 0.7210\n",
            "Epoch 27/60\n",
            "201/201 [==============================] - 15s 73ms/step - loss: 0.6815 - accuracy: 0.6978 - val_loss: 0.6347 - val_accuracy: 0.7154\n",
            "Epoch 28/60\n",
            "201/201 [==============================] - 15s 73ms/step - loss: 0.6729 - accuracy: 0.6983 - val_loss: 0.6113 - val_accuracy: 0.7294\n",
            "Epoch 29/60\n",
            "201/201 [==============================] - 15s 73ms/step - loss: 0.6564 - accuracy: 0.7161 - val_loss: 0.6296 - val_accuracy: 0.7294\n",
            "Epoch 30/60\n",
            "201/201 [==============================] - 15s 72ms/step - loss: 0.6533 - accuracy: 0.7123 - val_loss: 0.6185 - val_accuracy: 0.7338\n",
            "Epoch 31/60\n",
            "201/201 [==============================] - 15s 73ms/step - loss: 0.6433 - accuracy: 0.7166 - val_loss: 0.6085 - val_accuracy: 0.7394\n",
            "Epoch 32/60\n",
            "201/201 [==============================] - 15s 73ms/step - loss: 0.6353 - accuracy: 0.7185 - val_loss: 0.5817 - val_accuracy: 0.7494\n",
            "Epoch 33/60\n",
            "201/201 [==============================] - 15s 73ms/step - loss: 0.6259 - accuracy: 0.7246 - val_loss: 0.5841 - val_accuracy: 0.7484\n",
            "Epoch 34/60\n",
            "201/201 [==============================] - 15s 73ms/step - loss: 0.6220 - accuracy: 0.7259 - val_loss: 0.5747 - val_accuracy: 0.7500\n",
            "Epoch 35/60\n",
            "201/201 [==============================] - 15s 73ms/step - loss: 0.6126 - accuracy: 0.7349 - val_loss: 0.5707 - val_accuracy: 0.7466\n",
            "Epoch 36/60\n",
            "201/201 [==============================] - 15s 73ms/step - loss: 0.6083 - accuracy: 0.7316 - val_loss: 0.5647 - val_accuracy: 0.7559\n",
            "Epoch 37/60\n",
            "201/201 [==============================] - 15s 72ms/step - loss: 0.6036 - accuracy: 0.7336 - val_loss: 0.5768 - val_accuracy: 0.7450\n",
            "Epoch 38/60\n",
            "201/201 [==============================] - 15s 73ms/step - loss: 0.6011 - accuracy: 0.7382 - val_loss: 0.5624 - val_accuracy: 0.7519\n",
            "Epoch 39/60\n",
            "201/201 [==============================] - 15s 73ms/step - loss: 0.5907 - accuracy: 0.7430 - val_loss: 0.5518 - val_accuracy: 0.7600\n",
            "Epoch 40/60\n",
            "201/201 [==============================] - 15s 73ms/step - loss: 0.5872 - accuracy: 0.7405 - val_loss: 0.5670 - val_accuracy: 0.7594\n",
            "Epoch 41/60\n",
            "201/201 [==============================] - 15s 73ms/step - loss: 0.5825 - accuracy: 0.7444 - val_loss: 0.5466 - val_accuracy: 0.7690\n",
            "Epoch 42/60\n",
            "201/201 [==============================] - 15s 73ms/step - loss: 0.5743 - accuracy: 0.7519 - val_loss: 0.5534 - val_accuracy: 0.7653\n",
            "Epoch 43/60\n",
            "201/201 [==============================] - 15s 73ms/step - loss: 0.5780 - accuracy: 0.7474 - val_loss: 0.5399 - val_accuracy: 0.7671\n",
            "Epoch 44/60\n",
            "201/201 [==============================] - 15s 72ms/step - loss: 0.5696 - accuracy: 0.7547 - val_loss: 0.5415 - val_accuracy: 0.7671\n",
            "Epoch 45/60\n",
            "201/201 [==============================] - 15s 73ms/step - loss: 0.5628 - accuracy: 0.7585 - val_loss: 0.5504 - val_accuracy: 0.7656\n",
            "Epoch 46/60\n",
            "201/201 [==============================] - 15s 73ms/step - loss: 0.5570 - accuracy: 0.7593 - val_loss: 0.5336 - val_accuracy: 0.7734\n",
            "Epoch 47/60\n",
            "201/201 [==============================] - 15s 72ms/step - loss: 0.5570 - accuracy: 0.7647 - val_loss: 0.5600 - val_accuracy: 0.7587\n",
            "Epoch 48/60\n",
            "201/201 [==============================] - 15s 73ms/step - loss: 0.5582 - accuracy: 0.7612 - val_loss: 0.5444 - val_accuracy: 0.7656\n",
            "Epoch 49/60\n",
            "201/201 [==============================] - 15s 73ms/step - loss: 0.5478 - accuracy: 0.7639 - val_loss: 0.5584 - val_accuracy: 0.7718\n",
            "Epoch 50/60\n",
            "201/201 [==============================] - 15s 73ms/step - loss: 0.5428 - accuracy: 0.7690 - val_loss: 0.5610 - val_accuracy: 0.7556\n",
            "Epoch 51/60\n",
            "201/201 [==============================] - 15s 73ms/step - loss: 0.5435 - accuracy: 0.7654 - val_loss: 0.5324 - val_accuracy: 0.7703\n",
            "Epoch 52/60\n",
            "201/201 [==============================] - 15s 73ms/step - loss: 0.5379 - accuracy: 0.7725 - val_loss: 0.5219 - val_accuracy: 0.7768\n",
            "Epoch 53/60\n",
            "201/201 [==============================] - 15s 73ms/step - loss: 0.5328 - accuracy: 0.7723 - val_loss: 0.5292 - val_accuracy: 0.7721\n",
            "Epoch 54/60\n",
            "201/201 [==============================] - 15s 73ms/step - loss: 0.5236 - accuracy: 0.7760 - val_loss: 0.5252 - val_accuracy: 0.7737\n",
            "Epoch 55/60\n",
            "201/201 [==============================] - 15s 73ms/step - loss: 0.5203 - accuracy: 0.7752 - val_loss: 0.5268 - val_accuracy: 0.7837\n",
            "Epoch 56/60\n",
            "201/201 [==============================] - 15s 73ms/step - loss: 0.5229 - accuracy: 0.7800 - val_loss: 0.5150 - val_accuracy: 0.7827\n",
            "Epoch 57/60\n",
            "201/201 [==============================] - 15s 73ms/step - loss: 0.5160 - accuracy: 0.7827 - val_loss: 0.5228 - val_accuracy: 0.7743\n",
            "Epoch 58/60\n",
            "201/201 [==============================] - 15s 73ms/step - loss: 0.5122 - accuracy: 0.7837 - val_loss: 0.5206 - val_accuracy: 0.7796\n",
            "Epoch 59/60\n",
            "201/201 [==============================] - 15s 73ms/step - loss: 0.5084 - accuracy: 0.7906 - val_loss: 0.5037 - val_accuracy: 0.7896\n",
            "Epoch 60/60\n",
            "201/201 [==============================] - 15s 73ms/step - loss: 0.5135 - accuracy: 0.7829 - val_loss: 0.4925 - val_accuracy: 0.7936\n"
          ]
        }
      ]
    },
    {
      "cell_type": "code",
      "metadata": {
        "colab": {
          "base_uri": "https://localhost:8080/",
          "height": 295
        },
        "id": "OZkGB09JNHdB",
        "outputId": "b1b449e1-e605-457f-85d7-4eb459a8d658"
      },
      "source": [
        "fig , ax = plt.subplots(1,2)\n",
        "train_acc = history.history['accuracy']\n",
        "train_loss = history.history['loss']\n",
        "fig.set_size_inches(12,4)\n",
        "\n",
        "ax[0].plot(history.history['accuracy'])\n",
        "ax[0].plot(history.history['val_accuracy'])\n",
        "ax[0].set_title('Training Accuracy vs Validation Accuracy')\n",
        "ax[0].set_ylabel('Accuracy')\n",
        "ax[0].set_xlabel('Epoch')\n",
        "ax[0].legend(['Train', 'Validation'], loc='upper left')\n",
        "\n",
        "ax[1].plot(history.history['loss'])\n",
        "ax[1].plot(history.history['val_loss'])\n",
        "ax[1].set_title('Training Loss vs Validation Loss')\n",
        "ax[1].set_ylabel('Loss')\n",
        "ax[1].set_xlabel('Epoch')\n",
        "ax[1].legend(['Train', 'Validation'], loc='upper left')\n",
        "\n",
        "plt.show()"
      ],
      "execution_count": null,
      "outputs": [
        {
          "output_type": "display_data",
          "data": {
            "image/png": "[encoded data removed]",
            "text/plain": [
              "<Figure size 864x288 with 2 Axes>"
            ]
          },
          "metadata": {
            "needs_background": "light"
          }
        }
      ]
    },
    {
      "cell_type": "code",
      "metadata": {
        "id": "gQpmpdQSNQts"
      },
      "source": [
        "model.save('FER(Inception).h5')"
      ],
      "execution_count": null,
      "outputs": []
    },
    {
      "cell_type": "code",
      "metadata": {
        "colab": {
          "base_uri": "https://localhost:8080/",
          "height": 284
        },
        "id": "vHdTKaf-NV5L",
        "outputId": "268c214b-d93c-43b9-cd40-ca0cc7ae4029"
      },
      "source": [
        "img = plt.imread('/content/face2.jpg')\n",
        "detector = mtcnn.MTCNN()\n",
        "faces = detector.detect_faces(img)\n",
        "if len(faces) > 0:\n",
        "    x, y, w, h = faces[0]['box']\n",
        "    img = img[y:y+h, x:x+w]\n",
        "img = cv2.cvtColor(img, cv2.COLOR_BGR2GRAY)\n",
        "img = img/255\n",
        "img = cv2.resize(img, (48, 48), interpolation=cv2.INTER_AREA)\n",
        "plt.imshow(img, cmap='gray', vmin=0, vmax=1)"
      ],
      "execution_count": null,
      "outputs": [
        {
          "output_type": "execute_result",
          "data": {
            "text/plain": [
              "<matplotlib.image.AxesImage at 0x7efc84794150>"
            ]
          },
          "metadata": {},
          "execution_count": 17
        },
        {
          "output_type": "display_data",
          "data": {
            "image/png": "[encoded data removed]",
            "text/plain": [
              "<Figure size 432x288 with 1 Axes>"
            ]
          },
          "metadata": {
            "needs_background": "light"
          }
        }
      ]
    },
    {
      "cell_type": "code",
      "metadata": {
        "colab": {
          "base_uri": "https://localhost:8080/"
        },
        "id": "qx8U1SKeNXd9",
        "outputId": "62a55460-7b22-41c4-b704-2a3fd240a893"
      },
      "source": [
        "label_dict = {0:'Angry',1:'Happy',2:'Sad'}\n",
        "img = np.expand_dims(img,axis = 0) #makes image shape (1,48,48)\n",
        "img = img.reshape(1,48,48,1)\n",
        "result = model.predict(img)\n",
        "result = list(result[0])\n",
        "print(result)\n",
        "img_index = result.index(max(result))\n",
        "print(label_dict[img_index])\n",
        "plt.show()"
      ],
      "execution_count": null,
      "outputs": [
        {
          "output_type": "stream",
          "name": "stdout",
          "text": [
            "[5.320019e-07, 0.99999833, 1.2239468e-06]\n",
            "Happy\n"
          ]
        }
      ]
    },
    {
      "cell_type": "code",
      "metadata": {
        "colab": {
          "base_uri": "https://localhost:8080/"
        },
        "id": "EhkCH58yNY6Q",
        "outputId": "2c2aac86-39a9-467f-ac61-cd8e6e17d2bb"
      },
      "source": [
        "test_datagen = ImageDataGenerator(rescale = 1./255)\n",
        "test_generator = test_datagen.flow_from_directory( directory = test_dir,  \n",
        "                                                              target_size = (img_size,img_size),\n",
        "                                                              batch_size = 64,\n",
        "                                                              color_mode = \"grayscale\",\n",
        "                                                              class_mode = \"categorical\",\n",
        "                                                              subset = \"training\"\n",
        "                                                             )\n",
        "\n",
        "test_loss, test_acc   = model.evaluate(test_generator)\n",
        "\n",
        "print(\"\\nFinal Test Accuracy = {:.2f}%\".format(test_acc*100))"
      ],
      "execution_count": null,
      "outputs": [
        {
          "output_type": "stream",
          "name": "stdout",
          "text": [
            "Found 3979 images belonging to 3 classes.\n",
            "63/63 [==============================] - 2s 29ms/step - loss: 0.4948 - accuracy: 0.7939\n",
            "\n",
            "Final Test Accuracy = 79.39%\n"
          ]
        }
      ]
    },
    {
      "cell_type": "code",
      "metadata": {
        "id": "i_hXiWmYRI7k"
      },
      "source": [
        ""
      ],
      "execution_count": null,
      "outputs": []
    }
  ]
}