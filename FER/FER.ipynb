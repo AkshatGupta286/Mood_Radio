{
  "nbformat": 4,
  "nbformat_minor": 0,
  "metadata": {
    "kernelspec": {
      "display_name": "Python 3",
      "language": "python",
      "name": "python3"
    },
    "language_info": {
      "codemirror_mode": {
        "name": "ipython",
        "version": 3
      },
      "file_extension": ".py",
      "mimetype": "text/x-python",
      "name": "python",
      "nbconvert_exporter": "python",
      "pygments_lexer": "ipython3",
      "version": "3.8.5"
    },
    "colab": {
      "name": "FER(VGG).ipynb",
      "provenance": [],
      "collapsed_sections": [],
      "include_colab_link": true
    },
    "accelerator": "GPU"
  },
  "cells": [
    {
      "cell_type": "markdown",
      "metadata": {
        "id": "view-in-github",
        "colab_type": "text"
      },
      "source": [
        "<a href=\"https://colab.research.google.com/github/AkshatGupta286/Mood_Radio/blob/main/FER/FER.ipynb\" target=\"_parent\"><img src=\"https://colab.research.google.com/assets/colab-badge.svg\" alt=\"Open In Colab\"/></a>"
      ]
    },
    {
      "cell_type": "code",
      "metadata": {
        "_cell_guid": "b1076dfc-b9ad-4769-8c92-a6c4dae69d19",
        "_uuid": "8f2839f25d086af736a60e9eeb907d3b93b6e0e5",
        "id": "rWDbXn64B6TV"
      },
      "source": [
        "import numpy as np # linear algebra\n",
        "import pandas as pd # data processing, CSV file I/O (e.g. pd.read_csv)\n",
        "import os\n",
        "import matplotlib.pyplot as plt\n",
        "import seaborn as sns\n",
        "import tensorflow as tf \n",
        "import keras\n",
        "from keras.preprocessing import image\n",
        "from keras.models import Sequential\n",
        "from keras.layers import Conv2D, MaxPool2D, Flatten,Dense,Dropout,BatchNormalization\n",
        "from tensorflow.keras.preprocessing.image import ImageDataGenerator\n",
        "from tensorflow.keras.applications import VGG16, InceptionResNetV2\n",
        "from keras import regularizers\n",
        "from tensorflow.keras.optimizers import Adam,RMSprop,SGD,Adamax"
      ],
      "execution_count": 1,
      "outputs": []
    },
    {
      "cell_type": "code",
      "metadata": {
        "colab": {
          "base_uri": "https://localhost:8080/"
        },
        "id": "44lKmAjsB6Tb",
        "outputId": "645e720e-3292-4aa9-9ca0-d8808c90a4af"
      },
      "source": [
        "from zipfile import ZipFile\n",
        "file_name = '/content/FER2013.zip'\n",
        "\n",
        "with ZipFile(file_name, 'r') as zip:\n",
        "  zip.extractall()\n",
        "  print('Done')"
      ],
      "execution_count": null,
      "outputs": [
        {
          "output_type": "stream",
          "name": "stdout",
          "text": [
            "Done\n"
          ]
        }
      ]
    },
    {
      "cell_type": "code",
      "metadata": {
        "id": "Gk49_Et8Dn0J"
      },
      "source": [
        "train_dir = '/content/train'\n",
        "test_dir = '/content/test'"
      ],
      "execution_count": null,
      "outputs": []
    },
    {
      "cell_type": "code",
      "metadata": {
        "id": "ek5NTwEyB6Tb"
      },
      "source": [
        "img_size = 48 #original size of the image"
      ],
      "execution_count": null,
      "outputs": []
    },
    {
      "cell_type": "code",
      "metadata": {
        "id": "wV8dB-YQB6Tc"
      },
      "source": [
        "\"\"\"\n",
        "Data Augmentation\n",
        "--------------------------\n",
        "rotation_range = rotates the image with the amount of degrees we provide\n",
        "width_shift_range = shifts the image randomly to the right or left along the width of the image\n",
        "height_shift range = shifts image randomly to up or below along the height of the image\n",
        "horizontal_flip = flips the image horizontally\n",
        "rescale = to scale down the pizel values in our image between 0 and 1\n",
        "zoom_range = applies random zoom to our object\n",
        "validation_split = reserves some images to be used for validation purpose\n",
        "\"\"\"\n",
        "\n",
        "train_datagen = ImageDataGenerator(#rotation_range = 180,\n",
        "                                         width_shift_range = 0.1,\n",
        "                                         height_shift_range = 0.1,\n",
        "                                         horizontal_flip = True,\n",
        "                                         rescale = 1./255,\n",
        "                                         #zoom_range = 0.2,\n",
        "                                         validation_split = 0.2\n",
        "                                        )\n",
        "\n",
        "validation_datagen = ImageDataGenerator(rescale = 1./255,\n",
        "                                         validation_split = 0.2)"
      ],
      "execution_count": null,
      "outputs": []
    },
    {
      "cell_type": "code",
      "metadata": {
        "colab": {
          "base_uri": "https://localhost:8080/"
        },
        "id": "uTQ2LnZrB6Td",
        "outputId": "baf4a73c-fca2-440c-a804-ea4939417448"
      },
      "source": [
        "\"\"\"\n",
        "Applying data augmentation to the images as we read \n",
        "them from their respectivve directories\n",
        "\"\"\"\n",
        "train_generator = train_datagen.flow_from_directory(directory = train_dir,\n",
        "                                                    target_size = (img_size,img_size),\n",
        "                                                    batch_size = 64,\n",
        "                                                    color_mode = \"grayscale\",\n",
        "                                                    class_mode = \"categorical\",\n",
        "                                                    subset = \"training\"\n",
        "                                                   )\n",
        "\n",
        "validation_generator = validation_datagen.flow_from_directory( directory = train_dir,\n",
        "                                                              target_size = (img_size,img_size),\n",
        "                                                              batch_size = 64,\n",
        "                                                              color_mode = \"grayscale\",\n",
        "                                                              class_mode = \"categorical\",\n",
        "                                                              subset = \"validation\"\n",
        "                                                             )"
      ],
      "execution_count": null,
      "outputs": [
        {
          "output_type": "stream",
          "name": "stdout",
          "text": [
            "Found 12832 images belonging to 3 classes.\n",
            "Found 3208 images belonging to 3 classes.\n"
          ]
        }
      ]
    },
    {
      "cell_type": "code",
      "metadata": {
        "colab": {
          "base_uri": "https://localhost:8080/"
        },
        "id": "m0JQe04lB6Tg",
        "outputId": "3959aad1-5d3f-4bf9-84e9-047ee0060b51"
      },
      "source": [
        "model= tf.keras.models.Sequential()\n",
        "model.add(Conv2D(32, kernel_size=(3, 3), padding='same', activation='relu', input_shape=(48, 48, 1)))\n",
        "model.add(Conv2D(64,(3,3), padding='same', activation='relu' ))\n",
        "model.add(BatchNormalization())\n",
        "model.add(MaxPool2D(pool_size=(2, 2)))\n",
        "model.add(Dropout(0.25))\n",
        "\n",
        "model.add(Conv2D(128,(5,5), padding='same', activation='relu'))\n",
        "model.add(BatchNormalization())\n",
        "model.add(MaxPool2D(pool_size=(2, 2)))\n",
        "model.add(Dropout(0.25))\n",
        "    \n",
        "model.add(Conv2D(512,(3,3), padding='same', activation='relu', kernel_regularizer=regularizers.l2(0.01)))\n",
        "model.add(BatchNormalization())\n",
        "model.add(MaxPool2D(pool_size=(2, 2)))\n",
        "model.add(Dropout(0.25))\n",
        "\n",
        "model.add(Conv2D(512,(3,3), padding='same', activation='relu', kernel_regularizer=regularizers.l2(0.01)))\n",
        "model.add(BatchNormalization())\n",
        "model.add(MaxPool2D(pool_size=(2, 2)))\n",
        "model.add(Dropout(0.25))\n",
        "\n",
        "model.add(Flatten()) \n",
        "model.add(Dense(256,activation = 'relu'))\n",
        "model.add(BatchNormalization())\n",
        "model.add(Dropout(0.25))\n",
        "    \n",
        "model.add(Dense(512,activation = 'relu'))\n",
        "model.add(BatchNormalization())\n",
        "model.add(Dropout(0.25))\n",
        "\n",
        "model.add(Dense(3, activation='softmax'))\n",
        "\n",
        "model.compile(\n",
        "    optimizer = Adam(lr=0.0001), \n",
        "    loss='categorical_crossentropy', \n",
        "    metrics=['accuracy']\n",
        "  )"
      ],
      "execution_count": null,
      "outputs": [
        {
          "output_type": "stream",
          "name": "stderr",
          "text": [
            "/usr/local/lib/python3.7/dist-packages/keras/optimizer_v2/optimizer_v2.py:356: UserWarning: The `lr` argument is deprecated, use `learning_rate` instead.\n",
            "  \"The `lr` argument is deprecated, use `learning_rate` instead.\")\n"
          ]
        }
      ]
    },
    {
      "cell_type": "code",
      "metadata": {
        "id": "oGhSIA3UB6Th"
      },
      "source": [
        "epochs = 60\n",
        "batch_size = 64"
      ],
      "execution_count": null,
      "outputs": []
    },
    {
      "cell_type": "code",
      "metadata": {
        "colab": {
          "base_uri": "https://localhost:8080/"
        },
        "id": "-az8vfr0B6Ti",
        "outputId": "c403a642-b9a2-4ac4-950e-3107e8f2187c"
      },
      "source": [
        "model.summary()"
      ],
      "execution_count": null,
      "outputs": [
        {
          "output_type": "stream",
          "name": "stdout",
          "text": [
            "Model: \"sequential\"\n",
            "_________________________________________________________________\n",
            "Layer (type)                 Output Shape              Param #   \n",
            "=================================================================\n",
            "conv2d (Conv2D)              (None, 48, 48, 32)        320       \n",
            "_________________________________________________________________\n",
            "conv2d_1 (Conv2D)            (None, 48, 48, 64)        18496     \n",
            "_________________________________________________________________\n",
            "batch_normalization (BatchNo (None, 48, 48, 64)        256       \n",
            "_________________________________________________________________\n",
            "max_pooling2d (MaxPooling2D) (None, 24, 24, 64)        0         \n",
            "_________________________________________________________________\n",
            "dropout (Dropout)            (None, 24, 24, 64)        0         \n",
            "_________________________________________________________________\n",
            "conv2d_2 (Conv2D)            (None, 24, 24, 128)       204928    \n",
            "_________________________________________________________________\n",
            "batch_normalization_1 (Batch (None, 24, 24, 128)       512       \n",
            "_________________________________________________________________\n",
            "max_pooling2d_1 (MaxPooling2 (None, 12, 12, 128)       0         \n",
            "_________________________________________________________________\n",
            "dropout_1 (Dropout)          (None, 12, 12, 128)       0         \n",
            "_________________________________________________________________\n",
            "conv2d_3 (Conv2D)            (None, 12, 12, 512)       590336    \n",
            "_________________________________________________________________\n",
            "batch_normalization_2 (Batch (None, 12, 12, 512)       2048      \n",
            "_________________________________________________________________\n",
            "max_pooling2d_2 (MaxPooling2 (None, 6, 6, 512)         0         \n",
            "_________________________________________________________________\n",
            "dropout_2 (Dropout)          (None, 6, 6, 512)         0         \n",
            "_________________________________________________________________\n",
            "conv2d_4 (Conv2D)            (None, 6, 6, 512)         2359808   \n",
            "_________________________________________________________________\n",
            "batch_normalization_3 (Batch (None, 6, 6, 512)         2048      \n",
            "_________________________________________________________________\n",
            "max_pooling2d_3 (MaxPooling2 (None, 3, 3, 512)         0         \n",
            "_________________________________________________________________\n",
            "dropout_3 (Dropout)          (None, 3, 3, 512)         0         \n",
            "_________________________________________________________________\n",
            "flatten (Flatten)            (None, 4608)              0         \n",
            "_________________________________________________________________\n",
            "dense (Dense)                (None, 256)               1179904   \n",
            "_________________________________________________________________\n",
            "batch_normalization_4 (Batch (None, 256)               1024      \n",
            "_________________________________________________________________\n",
            "dropout_4 (Dropout)          (None, 256)               0         \n",
            "_________________________________________________________________\n",
            "dense_1 (Dense)              (None, 512)               131584    \n",
            "_________________________________________________________________\n",
            "batch_normalization_5 (Batch (None, 512)               2048      \n",
            "_________________________________________________________________\n",
            "dropout_5 (Dropout)          (None, 512)               0         \n",
            "_________________________________________________________________\n",
            "dense_2 (Dense)              (None, 3)                 1539      \n",
            "=================================================================\n",
            "Total params: 4,494,851\n",
            "Trainable params: 4,490,883\n",
            "Non-trainable params: 3,968\n",
            "_________________________________________________________________\n"
          ]
        }
      ]
    },
    {
      "cell_type": "code",
      "metadata": {
        "colab": {
          "base_uri": "https://localhost:8080/"
        },
        "id": "3YRbeEKyB6Ti",
        "outputId": "4f7c7d1b-bd32-43e2-f22d-34101f461f46"
      },
      "source": [
        "history = model.fit(x = train_generator, epochs = epochs, validation_data = validation_generator)"
      ],
      "execution_count": null,
      "outputs": [
        {
          "output_type": "stream",
          "name": "stdout",
          "text": [
            "Epoch 1/60\n",
            "201/201 [==============================] - 52s 90ms/step - loss: 8.4552 - accuracy: 0.3872 - val_loss: 7.9091 - val_accuracy: 0.3307\n",
            "Epoch 2/60\n",
            "201/201 [==============================] - 17s 83ms/step - loss: 7.8729 - accuracy: 0.4168 - val_loss: 7.6369 - val_accuracy: 0.4498\n",
            "Epoch 3/60\n",
            "201/201 [==============================] - 17s 84ms/step - loss: 7.3270 - accuracy: 0.4253 - val_loss: 6.9475 - val_accuracy: 0.4710\n",
            "Epoch 4/60\n",
            "201/201 [==============================] - 17s 84ms/step - loss: 6.7617 - accuracy: 0.4400 - val_loss: 6.3548 - val_accuracy: 0.4910\n",
            "Epoch 5/60\n",
            "201/201 [==============================] - 17s 84ms/step - loss: 6.1896 - accuracy: 0.4525 - val_loss: 5.8386 - val_accuracy: 0.4997\n",
            "Epoch 6/60\n",
            "201/201 [==============================] - 17s 83ms/step - loss: 5.6339 - accuracy: 0.4739 - val_loss: 5.3549 - val_accuracy: 0.4994\n",
            "Epoch 7/60\n",
            "201/201 [==============================] - 17s 83ms/step - loss: 5.1143 - accuracy: 0.4896 - val_loss: 4.8770 - val_accuracy: 0.5103\n",
            "Epoch 8/60\n",
            "201/201 [==============================] - 17s 84ms/step - loss: 4.6128 - accuracy: 0.5228 - val_loss: 4.3838 - val_accuracy: 0.5486\n",
            "Epoch 9/60\n",
            "201/201 [==============================] - 17s 83ms/step - loss: 4.1612 - accuracy: 0.5429 - val_loss: 4.3655 - val_accuracy: 0.4922\n",
            "Epoch 10/60\n",
            "201/201 [==============================] - 17s 84ms/step - loss: 3.7542 - accuracy: 0.5628 - val_loss: 3.4976 - val_accuracy: 0.5969\n",
            "Epoch 11/60\n",
            "201/201 [==============================] - 17s 83ms/step - loss: 3.3982 - accuracy: 0.5800 - val_loss: 3.3702 - val_accuracy: 0.5761\n",
            "Epoch 12/60\n",
            "201/201 [==============================] - 17s 83ms/step - loss: 3.0775 - accuracy: 0.5977 - val_loss: 2.8889 - val_accuracy: 0.6175\n",
            "Epoch 13/60\n",
            "201/201 [==============================] - 17s 82ms/step - loss: 2.7991 - accuracy: 0.6091 - val_loss: 2.6071 - val_accuracy: 0.6387\n",
            "Epoch 14/60\n",
            "201/201 [==============================] - 17s 84ms/step - loss: 2.5325 - accuracy: 0.6264 - val_loss: 2.4654 - val_accuracy: 0.6141\n",
            "Epoch 15/60\n",
            "201/201 [==============================] - 17s 84ms/step - loss: 2.3120 - accuracy: 0.6393 - val_loss: 2.2111 - val_accuracy: 0.6365\n",
            "Epoch 16/60\n",
            "201/201 [==============================] - 17s 84ms/step - loss: 2.1177 - accuracy: 0.6524 - val_loss: 2.3124 - val_accuracy: 0.5926\n",
            "Epoch 17/60\n",
            "201/201 [==============================] - 17s 83ms/step - loss: 1.9329 - accuracy: 0.6679 - val_loss: 1.8278 - val_accuracy: 0.6877\n",
            "Epoch 18/60\n",
            "201/201 [==============================] - 17s 84ms/step - loss: 1.7703 - accuracy: 0.6810 - val_loss: 1.6897 - val_accuracy: 0.6979\n",
            "Epoch 19/60\n",
            "201/201 [==============================] - 17s 82ms/step - loss: 1.6601 - accuracy: 0.6859 - val_loss: 1.5759 - val_accuracy: 0.7089\n",
            "Epoch 20/60\n",
            "201/201 [==============================] - 17s 83ms/step - loss: 1.5593 - accuracy: 0.6977 - val_loss: 1.5626 - val_accuracy: 0.6786\n",
            "Epoch 21/60\n",
            "201/201 [==============================] - 17s 83ms/step - loss: 1.4595 - accuracy: 0.7048 - val_loss: 1.4380 - val_accuracy: 0.6936\n",
            "Epoch 22/60\n",
            "201/201 [==============================] - 17s 83ms/step - loss: 1.3565 - accuracy: 0.7187 - val_loss: 1.2947 - val_accuracy: 0.7288\n",
            "Epoch 23/60\n",
            "201/201 [==============================] - 17s 83ms/step - loss: 1.2806 - accuracy: 0.7307 - val_loss: 1.2249 - val_accuracy: 0.7459\n",
            "Epoch 24/60\n",
            "201/201 [==============================] - 17s 82ms/step - loss: 1.2312 - accuracy: 0.7259 - val_loss: 1.1804 - val_accuracy: 0.7441\n",
            "Epoch 25/60\n",
            "201/201 [==============================] - 17s 83ms/step - loss: 1.1694 - accuracy: 0.7330 - val_loss: 1.1601 - val_accuracy: 0.7313\n",
            "Epoch 26/60\n",
            "201/201 [==============================] - 16s 81ms/step - loss: 1.1192 - accuracy: 0.7418 - val_loss: 1.1189 - val_accuracy: 0.7372\n",
            "Epoch 27/60\n",
            "201/201 [==============================] - 16s 82ms/step - loss: 1.0715 - accuracy: 0.7456 - val_loss: 1.0647 - val_accuracy: 0.7528\n",
            "Epoch 28/60\n",
            "201/201 [==============================] - 16s 81ms/step - loss: 1.0433 - accuracy: 0.7502 - val_loss: 1.0085 - val_accuracy: 0.7662\n",
            "Epoch 29/60\n",
            "201/201 [==============================] - 16s 82ms/step - loss: 1.0076 - accuracy: 0.7555 - val_loss: 0.9760 - val_accuracy: 0.7612\n",
            "Epoch 30/60\n",
            "201/201 [==============================] - 16s 81ms/step - loss: 0.9800 - accuracy: 0.7566 - val_loss: 0.9844 - val_accuracy: 0.7503\n",
            "Epoch 31/60\n",
            "201/201 [==============================] - 16s 81ms/step - loss: 0.9490 - accuracy: 0.7611 - val_loss: 0.9251 - val_accuracy: 0.7715\n",
            "Epoch 32/60\n",
            "201/201 [==============================] - 16s 82ms/step - loss: 0.9289 - accuracy: 0.7697 - val_loss: 0.9101 - val_accuracy: 0.7752\n",
            "Epoch 33/60\n",
            "201/201 [==============================] - 16s 81ms/step - loss: 0.9143 - accuracy: 0.7703 - val_loss: 0.9167 - val_accuracy: 0.7612\n",
            "Epoch 34/60\n",
            "201/201 [==============================] - 16s 81ms/step - loss: 0.8941 - accuracy: 0.7749 - val_loss: 0.8757 - val_accuracy: 0.7793\n",
            "Epoch 35/60\n",
            "201/201 [==============================] - 16s 81ms/step - loss: 0.8667 - accuracy: 0.7829 - val_loss: 0.9040 - val_accuracy: 0.7706\n",
            "Epoch 36/60\n",
            "201/201 [==============================] - 16s 81ms/step - loss: 0.8639 - accuracy: 0.7785 - val_loss: 0.9116 - val_accuracy: 0.7562\n",
            "Epoch 37/60\n",
            "201/201 [==============================] - 16s 81ms/step - loss: 0.8515 - accuracy: 0.7848 - val_loss: 0.8654 - val_accuracy: 0.7849\n",
            "Epoch 38/60\n",
            "201/201 [==============================] - 16s 81ms/step - loss: 0.8356 - accuracy: 0.7878 - val_loss: 0.8673 - val_accuracy: 0.7787\n",
            "Epoch 39/60\n",
            "201/201 [==============================] - 16s 81ms/step - loss: 0.8332 - accuracy: 0.7908 - val_loss: 0.9507 - val_accuracy: 0.7378\n",
            "Epoch 40/60\n",
            "201/201 [==============================] - 16s 82ms/step - loss: 0.8284 - accuracy: 0.7904 - val_loss: 0.8616 - val_accuracy: 0.7858\n",
            "Epoch 41/60\n",
            "201/201 [==============================] - 16s 81ms/step - loss: 0.8117 - accuracy: 0.7971 - val_loss: 0.8321 - val_accuracy: 0.7812\n",
            "Epoch 42/60\n",
            "201/201 [==============================] - 16s 81ms/step - loss: 0.8063 - accuracy: 0.7961 - val_loss: 0.8574 - val_accuracy: 0.7721\n",
            "Epoch 43/60\n",
            "201/201 [==============================] - 16s 81ms/step - loss: 0.8007 - accuracy: 0.7995 - val_loss: 0.8207 - val_accuracy: 0.7943\n",
            "Epoch 44/60\n",
            "201/201 [==============================] - 16s 81ms/step - loss: 0.8061 - accuracy: 0.8020 - val_loss: 0.8359 - val_accuracy: 0.7849\n",
            "Epoch 45/60\n",
            "201/201 [==============================] - 16s 81ms/step - loss: 0.7877 - accuracy: 0.8046 - val_loss: 0.8138 - val_accuracy: 0.7877\n",
            "Epoch 46/60\n",
            "201/201 [==============================] - 16s 81ms/step - loss: 0.7867 - accuracy: 0.8072 - val_loss: 0.8757 - val_accuracy: 0.7653\n",
            "Epoch 47/60\n",
            "201/201 [==============================] - 16s 81ms/step - loss: 0.7686 - accuracy: 0.8095 - val_loss: 0.7970 - val_accuracy: 0.7958\n",
            "Epoch 48/60\n",
            "201/201 [==============================] - 16s 82ms/step - loss: 0.7746 - accuracy: 0.8150 - val_loss: 1.0267 - val_accuracy: 0.7195\n",
            "Epoch 49/60\n",
            "201/201 [==============================] - 16s 81ms/step - loss: 0.7683 - accuracy: 0.8110 - val_loss: 0.7939 - val_accuracy: 0.7940\n",
            "Epoch 50/60\n",
            "201/201 [==============================] - 16s 81ms/step - loss: 0.7637 - accuracy: 0.8132 - val_loss: 0.8542 - val_accuracy: 0.7706\n",
            "Epoch 51/60\n",
            "201/201 [==============================] - 16s 82ms/step - loss: 0.7711 - accuracy: 0.8071 - val_loss: 0.8366 - val_accuracy: 0.7805\n",
            "Epoch 52/60\n",
            "201/201 [==============================] - 17s 82ms/step - loss: 0.7595 - accuracy: 0.8190 - val_loss: 0.8304 - val_accuracy: 0.7930\n",
            "Epoch 53/60\n",
            "201/201 [==============================] - 16s 81ms/step - loss: 0.7638 - accuracy: 0.8175 - val_loss: 0.8079 - val_accuracy: 0.8014\n",
            "Epoch 54/60\n",
            "201/201 [==============================] - 16s 82ms/step - loss: 0.7658 - accuracy: 0.8187 - val_loss: 0.8153 - val_accuracy: 0.7999\n",
            "Epoch 55/60\n",
            "201/201 [==============================] - 16s 81ms/step - loss: 0.7585 - accuracy: 0.8234 - val_loss: 0.8447 - val_accuracy: 0.7830\n",
            "Epoch 56/60\n",
            "201/201 [==============================] - 16s 82ms/step - loss: 0.7521 - accuracy: 0.8226 - val_loss: 0.8269 - val_accuracy: 0.7918\n",
            "Epoch 57/60\n",
            "201/201 [==============================] - 16s 81ms/step - loss: 0.7537 - accuracy: 0.8243 - val_loss: 0.8341 - val_accuracy: 0.7858\n",
            "Epoch 58/60\n",
            "201/201 [==============================] - 16s 81ms/step - loss: 0.7518 - accuracy: 0.8254 - val_loss: 0.8167 - val_accuracy: 0.8039\n",
            "Epoch 59/60\n",
            "201/201 [==============================] - 16s 81ms/step - loss: 0.7417 - accuracy: 0.8293 - val_loss: 0.8913 - val_accuracy: 0.7740\n",
            "Epoch 60/60\n",
            "201/201 [==============================] - 17s 82ms/step - loss: 0.7472 - accuracy: 0.8268 - val_loss: 0.8198 - val_accuracy: 0.7940\n"
          ]
        }
      ]
    },
    {
      "cell_type": "code",
      "metadata": {
        "colab": {
          "base_uri": "https://localhost:8080/",
          "height": 295
        },
        "id": "ZfAXSX5rB6Tj",
        "outputId": "3abb752f-a5f2-41ef-fb3a-b85c002bc693"
      },
      "source": [
        "fig , ax = plt.subplots(1,2)\n",
        "train_acc = history.history['accuracy']\n",
        "train_loss = history.history['loss']\n",
        "fig.set_size_inches(12,4)\n",
        "\n",
        "ax[0].plot(history.history['accuracy'])\n",
        "ax[0].plot(history.history['val_accuracy'])\n",
        "ax[0].set_title('Training Accuracy vs Validation Accuracy')\n",
        "ax[0].set_ylabel('Accuracy')\n",
        "ax[0].set_xlabel('Epoch')\n",
        "ax[0].legend(['Train', 'Validation'], loc='upper left')\n",
        "\n",
        "ax[1].plot(history.history['loss'])\n",
        "ax[1].plot(history.history['val_loss'])\n",
        "ax[1].set_title('Training Loss vs Validation Loss')\n",
        "ax[1].set_ylabel('Loss')\n",
        "ax[1].set_xlabel('Epoch')\n",
        "ax[1].legend(['Train', 'Validation'], loc='upper left')\n",
        "\n",
        "plt.show()"
      ],
      "execution_count": null,
      "outputs": [
        {
          "output_type": "display_data",
          "data": {
            "image/png": "[encoded data removed]",
            "text/plain": [
              "<Figure size 864x288 with 2 Axes>"
            ]
          },
          "metadata": {
            "needs_background": "light"
          }
        }
      ]
    },
    {
      "cell_type": "code",
      "metadata": {
        "id": "xNzJxM0RB6Tk"
      },
      "source": [
        "model.save('FER.h5')"
      ],
      "execution_count": null,
      "outputs": []
    },
    {
      "cell_type": "code",
      "metadata": {
        "id": "ietbTxTSd0CM",
        "colab": {
          "base_uri": "https://localhost:8080/"
        },
        "outputId": "617d7b92-9fbb-4ee7-fe10-ea723cf3c288"
      },
      "source": [
        "test_datagen = ImageDataGenerator(rescale = 1./255)\n",
        "test_generator = test_datagen.flow_from_directory( directory = test_dir,  \n",
        "                                                              target_size = (img_size,img_size),\n",
        "                                                              batch_size = 64,\n",
        "                                                              color_mode = \"grayscale\",\n",
        "                                                              class_mode = \"categorical\",\n",
        "                                                              subset = \"training\"\n",
        "                                                             )\n",
        "\n",
        "test_loss, test_acc   = model.evaluate(test_generator)\n",
        "\n",
        "print(\"\\nFinal Test Accuracy = {:.2f}%\".format(test_acc*100))"
      ],
      "execution_count": null,
      "outputs": [
        {
          "output_type": "stream",
          "name": "stdout",
          "text": [
            "Found 3979 images belonging to 3 classes.\n",
            "63/63 [==============================] - 2s 31ms/step - loss: 0.8085 - accuracy: 0.8050\n",
            "\n",
            "Final Test Accuracy = 80.50%\n"
          ]
        }
      ]
    }
  ]
}